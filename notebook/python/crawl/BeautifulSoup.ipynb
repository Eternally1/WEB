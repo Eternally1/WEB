{
 "cells": [
  {
   "cell_type": "markdown",
   "metadata": {},
   "source": [
    "### 基本使用"
   ]
  },
  {
   "cell_type": "code",
   "execution_count": 2,
   "metadata": {
    "collapsed": true
   },
   "outputs": [
    {
     "name": "stdout",
     "output_type": "stream",
     "text": [
      "<html>\n",
      " <head>\n",
      "  <title>\n",
      "   The Dormouse's story\n",
      "  </title>\n",
      " </head>\n",
      " <body>\n",
      "  <p class=\"title\">\n",
      "   <b>\n",
      "    The Dormouse's story\n",
      "   </b>\n",
      "  </p>\n",
      "  <p class=\"story\">\n",
      "   Once upon a time there were three little sisters; and their names were\n",
      "   <a class=\"sister\" href=\"http://example.com/elsie\" id=\"link1\">\n",
      "    Elsie\n",
      "   </a>\n",
      "   ,\n",
      "   <a class=\"sister\" href=\"http://example.com/lacie\" id=\"link2\">\n",
      "    Lacie\n",
      "   </a>\n",
      "   and\n",
      "   <a class=\"sister\" href=\"http://example.com/tillie\" id=\"link3\">\n",
      "    Tillie\n",
      "   </a>\n",
      "   ;\n",
      "and they lived at the bottom of a well.\n",
      "  </p>\n",
      "  <p class=\"story\">\n",
      "   ...\n",
      "  </p>\n",
      " </body>\n",
      "</html>\n",
      "The Dormouse's story\n"
     ]
    }
   ],
   "source": [
    "html_doc = \"\"\"\n",
    "<html><head><title>The Dormouse's story</title></head>\n",
    "<body>\n",
    "<p class=\"title\"><b>The Dormouse's story</b></p>\n",
    "\n",
    "<p class=\"story\">Once upon a time there were three little sisters; and their names were\n",
    "<a href=\"http://example.com/elsie\" class=\"sister\" id=\"link1\">Elsie</a>,\n",
    "<a href=\"http://example.com/lacie\" class=\"sister\" id=\"link2\">Lacie</a> and\n",
    "<a href=\"http://example.com/tillie\" class=\"sister\" id=\"link3\">Tillie</a>;\n",
    "and they lived at the bottom of a well.</p>\n",
    "\n",
    "<p class=\"story\">...</p>\n",
    "\"\"\"\n",
    "from bs4 import BeautifulSoup\n",
    "soup = BeautifulSoup(html_doc,'lxml')\n",
    "print(soup.prettify())   #格式化代码\n",
    "print(soup.title.string) "
   ]
  },
  {
   "cell_type": "markdown",
   "metadata": {},
   "source": [
    "#### 标签选择器"
   ]
  },
  {
   "cell_type": "code",
   "execution_count": 30,
   "metadata": {
    "collapsed": true
   },
   "outputs": [
    {
     "name": "stdout",
     "output_type": "stream",
     "text": [
      "<title>The Dormouse's story</title>\n",
      "<class 'bs4.element.Tag'>\n",
      "<p class=\"story\">Once upon a time there were three little sisters; and their names were</p>\n",
      "title\n",
      "['story']\n",
      "['story']\n",
      "Once upon a time there were three little sisters; and their names were\n",
      "The Dormouse's story\n",
      "-----------子节点和子孙节点---------------\n",
      "['Once upon a time there were three little sisters; and their names were']\n",
      "<list_iterator object at 0x06CEB7F0>\n",
      "0 Once upon a time there were three little sisters; and their names were\n",
      "<generator object descendants at 0x06CE1480>\n",
      "0 Once upon a time there were three little sisters; and their names were\n",
      "-----------父节点和祖先节点-----------------\n",
      "<a class=\"sister\" href=\"http://example.com/elsie\" id=\"link1\"><span>Elsie</span></a>\n",
      "<generator object parents at 0x06CE14B0>\n",
      "----------获取兄弟结点---------------\n",
      "[(0, ',\\n'), (1, <a class=\"sister\" href=\"http://example.com/lacie\" id=\"link2\">Lacie</a>), (2, ' and\\n'), (3, <a class=\"sister\" href=\"http://example.com/tillie\" id=\"link3\">Tillie</a>), (4, ';\\nand they lived at the bottom of a well.\\n\\n'), (5, <p class=\"story\">...</p>), (6, '\\n')]\n",
      "[(0, '\\n'), (1, <p class=\"story\">Once upon a time there were three little sisters; and their names were</p>), (2, '\\n')]\n"
     ]
    }
   ],
   "source": [
    "html_doc = \"\"\"\n",
    "<html><head><title>The Dormouse's story</title></head>\n",
    "<body>\n",
    "\n",
    "<p class=\"story\">Once upon a time there were three little sisters; and their names were</p>\n",
    "<a href=\"http://example.com/elsie\" class=\"sister\" id=\"link1\"><span>Elsie</span></a>,\n",
    "<a href=\"http://example.com/lacie\" class=\"sister\" id=\"link2\">Lacie</a> and\n",
    "<a href=\"http://example.com/tillie\" class=\"sister\" id=\"link3\">Tillie</a>;\n",
    "and they lived at the bottom of a well.</p>\n",
    "\n",
    "<p class=\"story\">...</p>\n",
    "\"\"\"\n",
    "from bs4 import BeautifulSoup\n",
    "soup = BeautifulSoup(html_doc,'lxml')\n",
    "# 选择元素\n",
    "print(soup.title) \n",
    "print(type(soup.head))\n",
    "print(soup.p)   #只输出第一个匹配结果\n",
    "\n",
    "\n",
    "# 获取标签名称\n",
    "print(soup.title.name)\n",
    "\n",
    "# 获取属性值,以下两种等价\n",
    "print(soup.p.attrs['class'])\n",
    "print(soup.p['class'])\n",
    "\n",
    "# 获取内容\n",
    "print(soup.p.string)\n",
    "\n",
    "# 嵌套选择\n",
    "print(soup.head.title.string)\n",
    "\n",
    "# 子节点和子孙节点\n",
    "print(\"-----------子节点和子孙节点---------------\")\n",
    "print(soup.p.contents)\n",
    "print(soup.p.children)  #迭代器   子节点\n",
    "for i,child in enumerate(soup.p.children):\n",
    "    print(i,child)\n",
    "\n",
    "print(soup.p.descendants)  #迭代器   子孙借点\n",
    "for i,child in enumerate(soup.p.descendants):\n",
    "    print(i,child)\n",
    "\n",
    "print(\"-----------父节点和祖先节点-----------------\")\n",
    "print(soup.span.parent)\n",
    "print(soup.span.parents)   #获得祖先节点\n",
    "\n",
    "print(\"----------获取兄弟结点---------------\")\n",
    "print(list(enumerate(soup.a.next_siblings)))\n",
    "print(list(enumerate(soup.a.previous_siblings)))"
   ]
  },
  {
   "cell_type": "markdown",
   "metadata": {},
   "source": [
    "#### 标准选择器\n",
    "##### find_all"
   ]
  },
  {
   "cell_type": "code",
   "execution_count": 41,
   "metadata": {
    "collapsed": true
   },
   "outputs": [
    {
     "name": "stdout",
     "output_type": "stream",
     "text": [
      "[<ul class=\"list\" id=\"list-1\">\n",
      "<li class=\"element\">Foo</li>\n",
      "<li class=\"element\">Bar</li>\n",
      "<li class=\"element\">Jay</li>\n",
      "</ul>, <ul class=\"list list-small\" id=\"list-2\">\n",
      "<li class=\"element\">Foo</li>\n",
      "<li class=\"element\">Bar</li>\n",
      "</ul>]\n",
      "<class 'bs4.element.Tag'>\n",
      "[<li class=\"element\">Foo</li>, <li class=\"element\">Bar</li>, <li class=\"element\">Jay</li>]\n",
      "[<li class=\"element\">Foo</li>, <li class=\"element\">Bar</li>]\n",
      "-----------attrs------------\n",
      "[<ul class=\"list\" id=\"list-1\">\n",
      "<li class=\"element\">Foo</li>\n",
      "<li class=\"element\">Bar</li>\n",
      "<li class=\"element\">Jay</li>\n",
      "</ul>]\n",
      "[<li class=\"element\">Foo</li>, <li class=\"element\">Bar</li>, <li class=\"element\">Jay</li>, <li class=\"element\">Foo</li>, <li class=\"element\">Bar</li>]\n",
      "[<ul class=\"list\" id=\"list-1\">\n",
      "<li class=\"element\">Foo</li>\n",
      "<li class=\"element\">Bar</li>\n",
      "<li class=\"element\">Jay</li>\n",
      "</ul>]\n",
      "[<li class=\"element\">Foo</li>, <li class=\"element\">Bar</li>, <li class=\"element\">Jay</li>, <li class=\"element\">Foo</li>, <li class=\"element\">Bar</li>]\n",
      "['Foo', 'Foo']\n"
     ]
    }
   ],
   "source": [
    "html_doc = \"\"\"\n",
    "<div class=\"panel\">\n",
    "\t<div class=\"panel-heading\">\n",
    "\t\t<h4>hello</h4>\n",
    "\t</div>\n",
    "\t<div class=\"panel-body\">\n",
    "\t\t<ul class=\"list\" id=\"list-1\">\n",
    "\t\t\t<li class=\"element\">Foo</li>\n",
    "\t\t\t<li class=\"element\">Bar</li>\n",
    "\t\t\t<li class=\"element\">Jay</li>\n",
    "\t\t</ul>\n",
    "\t\t<ul class=\"list list-small\" id=\"list-2\">\n",
    "\t\t\t<li class=\"element\">Foo</li>\n",
    "\t\t\t<li class=\"element\">Bar</li>\n",
    "\t\t</ul>\n",
    "\t</div>\n",
    "</div>\n",
    "\"\"\"\n",
    "# 标签\n",
    "from bs4 import BeautifulSoup\n",
    "soup = BeautifulSoup(html_doc,'lxml')\n",
    "print(soup.find_all('ul'))\n",
    "print(type(soup.find_all('ul')[0]))\n",
    "for ul in soup.find_all('ul'):\n",
    "    print(ul.find_all('li'))\n",
    "\n",
    "# attrs\n",
    "print(\"-----------attrs------------\")\n",
    "print(soup.find_all(attrs={'id':'list-1'}))\n",
    "print(soup.find_all(attrs={'class':'element'}))\n",
    "# 这两个是提供的比较方便的查询id  和  class。\n",
    "print(soup.find_all(id=\"list-1\"))\n",
    "print(soup.find_all(class_='element'))\n",
    "\n",
    "# text  根据文本的内容进行选择\n",
    "print(soup.find_all(text=\"Foo\"))\n",
    "\n",
    "print(\"-----------find------------\")\n",
    "# find 返回单个元素\n",
    "# find_parents()  find_parent()\n",
    "# find_next_siblings() find_next_sibling()\n",
    "# find_previous_siblings()\n",
    "# find_all_next()  find_next()\n",
    "# find_all_previous\n"
   ]
  },
  {
   "cell_type": "markdown",
   "metadata": {},
   "source": [
    "#### css选择器"
   ]
  },
  {
   "cell_type": "code",
   "execution_count": 52,
   "metadata": {},
   "outputs": [
    {
     "name": "stdout",
     "output_type": "stream",
     "text": [
      "[<div class=\"panel-heading\">\n",
      "<h4>hello</h4>\n",
      "</div>]\n",
      "[<li class=\"element\">Foo</li>, <li class=\"element\">Bar</li>, <li class=\"element\">Jay</li>, <li class=\"element\">Foo</li>, <li class=\"element\">Bar</li>]\n",
      "[<ul class=\"list\" id=\"list-1\">\n",
      "<li class=\"element\">Foo</li>\n",
      "<li class=\"element\">Bar</li>\n",
      "<li class=\"element\">Jay</li>\n",
      "</ul>]\n",
      "---------获取属性-------------\n",
      "list-1\n",
      "list-2\n",
      "------------获取内容-----------\n",
      "Foo\n"
     ]
    }
   ],
   "source": [
    "html_doc = \"\"\"\n",
    "<div class=\"panel\">\n",
    "\t<div class=\"panel-heading\">\n",
    "\t\t<h4>hello</h4>\n",
    "\t</div>\n",
    "\t<div class=\"panel-body\">\n",
    "\t\t<ul class=\"list\" id=\"list-1\">\n",
    "\t\t\t<li class=\"element\">Foo</li>\n",
    "\t\t\t<li class=\"element\">Bar</li>\n",
    "\t\t\t<li class=\"element\">Jay</li>\n",
    "\t\t</ul>\n",
    "\t\t<ul class=\"list list-small\" id=\"list-2\">\n",
    "\t\t\t<li class=\"element\">Foo</li>\n",
    "\t\t\t<li class=\"element\">Bar</li>\n",
    "\t\t</ul>\n",
    "\t</div>\n",
    "</div>\n",
    "\"\"\"\n",
    "\n",
    "from bs4 import BeautifulSoup\n",
    "soup = BeautifulSoup(html_doc,'lxml')\n",
    "print(soup.select(\".panel .panel-heading\"))\n",
    "print(soup.select('ul li'))\n",
    "print(soup.select('.panel-body #list-1'))\n",
    "\n",
    "\n",
    "# 获取属性\n",
    "print('---------获取属性-------------')\n",
    "print(soup.select('ul')[0]['id'])\n",
    "print(soup.select('ul')[1].attrs['id'])\n",
    "\n",
    "# 获取内容\n",
    "print(\"------------获取内容-----------\")\n",
    "# 要想获取所有的，需要遍历  for\n",
    "print(soup.select('li')[0].get_text())   "
   ]
  },
  {
   "cell_type": "code",
   "execution_count": null,
   "metadata": {},
   "outputs": [],
   "source": []
  },
  {
   "cell_type": "code",
   "execution_count": null,
   "metadata": {},
   "outputs": [],
   "source": []
  },
  {
   "cell_type": "code",
   "execution_count": null,
   "metadata": {},
   "outputs": [],
   "source": []
  }
 ],
 "metadata": {
  "kernelspec": {
   "display_name": "Python 3",
   "language": "python",
   "name": "python3"
  },
  "language_info": {
   "codemirror_mode": {
    "name": "ipython",
    "version": 3
   },
   "file_extension": ".py",
   "mimetype": "text/x-python",
   "name": "python",
   "nbconvert_exporter": "python",
   "pygments_lexer": "ipython3",
   "version": "3.6.4"
  }
 },
 "nbformat": 4,
 "nbformat_minor": 2
}
