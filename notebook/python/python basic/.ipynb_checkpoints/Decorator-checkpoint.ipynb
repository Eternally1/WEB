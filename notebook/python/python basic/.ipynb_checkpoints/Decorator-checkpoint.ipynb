{
 "cells": [
  {
   "cell_type": "markdown",
   "metadata": {},
   "source": [
    "### 装饰器 \n",
    "代码运行期间动态增加功能的方式称为装饰器"
   ]
  },
  {
   "attachments": {},
   "cell_type": "markdown",
   "metadata": {},
   "source": [
    "闭包，闭包=函数块+定义函数时的环境（这里就是函数内部对外部环境的引用）"
   ]
  },
  {
   "cell_type": "code",
   "execution_count": 2,
   "metadata": {},
   "outputs": [
    {
     "name": "stdout",
     "output_type": "stream",
     "text": [
      "10\n"
     ]
    }
   ],
   "source": [
    "def outer():\n",
    "    x = 10\n",
    "    def inner():     # 条件1 inner是内部函数\n",
    "        print(x)     # 条件2 外部环境的一个变量\n",
    "    return inner    # 结论：inner是内部函数\n",
    "\n",
    "outer()()"
   ]
  },
  {
   "cell_type": "markdown",
   "metadata": {},
   "source": [
    "装饰器  [廖雪峰装饰器讲解](https://www.liaoxuefeng.com/wiki/0014316089557264a6b348958f449949df42a6d3a2e542c000/0014318435599930270c0381a3b44db991cd6d858064ac0000)"
   ]
  },
  {
   "cell_type": "code",
   "execution_count": 8,
   "metadata": {},
   "outputs": [
    {
     "name": "stdout",
     "output_type": "stream",
     "text": [
      "call foo\n",
      "foo...\n"
     ]
    }
   ],
   "source": [
    "# 这里有可变参数和关键参数的知识点。\n",
    "def log(func):\n",
    "    print(\"call %s\"% func.__name__)\n",
    "    func()\n",
    "         \n",
    "# foo = log(foo)  这一句就是上面@log的作用\n",
    "def foo():\n",
    "    print(\"foo...\")\n",
    "\n",
    "# 此时调用的时候就相当于调用的是新的foo函数。\n",
    "log(foo)"
   ]
  },
  {
   "cell_type": "markdown",
   "metadata": {},
   "source": [
    "使用装饰器来改进。"
   ]
  },
  {
   "cell_type": "code",
   "execution_count": 10,
   "metadata": {},
   "outputs": [
    {
     "name": "stdout",
     "output_type": "stream",
     "text": [
      "call foo\n",
      "foo...\n"
     ]
    }
   ],
   "source": [
    "# 这里有可变参数和关键参数的知识点。\n",
    "def log(func):\n",
    "    def wrapper(*arg,**kw):\n",
    "        print(\"call %s\"% func.__name__)\n",
    "        return func(*arg,**kw)\n",
    "    return wrapper\n",
    "\n",
    "@log\n",
    "# foo = log(foo)  这一句就是上面@log的作用\n",
    "def foo(x):\n",
    "    print(\"foo...\")\n",
    "\n",
    "# 此时调用的时候就相当于调用的是新的foo函数。\n",
    "foo(3)"
   ]
  },
  {
   "cell_type": "code",
   "execution_count": 16,
   "metadata": {},
   "outputs": [
    {
     "name": "stdout",
     "output_type": "stream",
     "text": [
      "call foo\n",
      "foo...\n"
     ]
    }
   ],
   "source": [
    "# 这里有可变参数和关键参数的知识点。\n",
    "def log(flag=False):\n",
    "    if flag:\n",
    "        print(\"这里打印日志信息...\")\n",
    "    def decorater(func):\n",
    "        def wrapper(*arg,**kw):\n",
    "            print(\"call %s\"% func.__name__)\n",
    "            return func(*arg,**kw)\n",
    "        return wrapper\n",
    "    return decorater\n",
    "\n",
    "@log(True)\n",
    "# 先执行log(True),返回一个decorater函数，然后执行foo = decorater(foo)\n",
    "def foo(x):\n",
    "    print(\"foo...\")\n",
    "\n",
    "# 此时调用的时候就相当于调用的是新的foo函数。\n",
    "foo(3)"
   ]
  }
 ],
 "metadata": {
  "kernelspec": {
   "display_name": "Python 3",
   "language": "python",
   "name": "python3"
  },
  "language_info": {
   "codemirror_mode": {
    "name": "ipython",
    "version": 3
   },
   "file_extension": ".py",
   "mimetype": "text/x-python",
   "name": "python",
   "nbconvert_exporter": "python",
   "pygments_lexer": "ipython3",
   "version": "3.6.4"
  }
 },
 "nbformat": 4,
 "nbformat_minor": 2
}
