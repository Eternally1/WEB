{
 "cells": [
  {
   "cell_type": "markdown",
   "metadata": {},
   "source": [
    "### 模块"
   ]
  },
  {
   "cell_type": "markdown",
   "metadata": {},
   "source": [
    "一个模块的例子，注意包含哪些内容\n",
    "\n",
    ">第四行是一个字符串，表示模块的文档注释，任何模块代码的第一个字符都被视为模块的文档注释  \n",
    "\n",
    ">author将作者信息写入进去\n",
    "\n",
    "[命令行运行](https://www.liaoxuefeng.com/wiki/0014316089557264a6b348958f449949df42a6d3a2e542c000/001431845183474e20ee7e7828b47f7b7607f2dc1e90dbb000)"
   ]
  },
  {
   "cell_type": "code",
   "execution_count": 2,
   "metadata": {},
   "outputs": [
    {
     "name": "stdout",
     "output_type": "stream",
     "text": [
      "Too many arguments!\n"
     ]
    }
   ],
   "source": [
    "#!/usr/bin/env python3\n",
    "#-*- coding: utf-8 -*-\n",
    "\n",
    "'A test module'\n",
    "__author__ = 'Qiu'\n",
    "\n",
    "\n",
    "import sys\n",
    "def test():\n",
    "    args = sys.argv\n",
    "    if len(args) == 1:\n",
    "        print(\"hello world\")\n",
    "    elif len(args)==2:\n",
    "        print(\"hello,%s!\"%args[1])\n",
    "    else:\n",
    "        print(\"Too many arguments!\")\n",
    "\n",
    "if __name__=='__main__':\n",
    "    test()"
   ]
  },
  {
   "attachments": {},
   "cell_type": "markdown",
   "metadata": {},
   "source": [
    "![命令行运行](./images/module_1.png)\n",
    "![导入运行](./images/module_2.png)"
   ]
  },
  {
   "cell_type": "markdown",
   "metadata": {},
   "source": [
    "#### 作用域"
   ]
  },
  {
   "cell_type": "markdown",
   "metadata": {},
   "source": [
    "特殊变量  \\__author__   \\__doc__  \\__name__。\n",
    "![调用特殊变量](./images/module_3.png)\n",
    "\n",
    "非公开变量或者函数 \\_xxx   __xxx  这种变量就是非公开的,不**应该**被直接引用,而不是**不能**被直接引用，是因为Python并没有一种方法可以完全限制访问private函数或者变量。但是从编程习惯上不应该引用private函数或者变量。"
   ]
  },
  {
   "cell_type": "code",
   "execution_count": 5,
   "metadata": {},
   "outputs": [
    {
     "name": "stdout",
     "output_type": "stream",
     "text": [
      "Hi,Qiu\n",
      "hello,Junan\n"
     ]
    }
   ],
   "source": [
    "#这里return语句也能格式化返回\n",
    "def _private_1(name):\n",
    "    return \"hello,%s\" % name\n",
    "\n",
    "def _private_2(name):\n",
    "    return 'Hi,%s'%name\n",
    "\n",
    "# 只有外部需要的函数定义成public\n",
    "def greeting(name):\n",
    "    if len(name)>3:\n",
    "        return _private_1(name)\n",
    "    else:\n",
    "        return _private_2(name)\n",
    "\n",
    "print(greeting(\"Qiu\"))\n",
    "print(greeting(\"Junan\"))"
   ]
  },
  {
   "cell_type": "markdown",
   "metadata": {},
   "source": [
    "#### 模块搜索路径"
   ]
  },
  {
   "cell_type": "code",
   "execution_count": 9,
   "metadata": {},
   "outputs": [
    {
     "name": "stdout",
     "output_type": "stream",
     "text": [
      "\n",
      "c:\\software\\others\\python\\install3.6.4\\python36.zip\n",
      "c:\\software\\others\\python\\install3.6.4\\DLLs\n",
      "c:\\software\\others\\python\\install3.6.4\\lib\n",
      "c:\\software\\others\\python\\install3.6.4\n",
      "c:\\software\\others\\python\\install3.6.4\\lib\\site-packages\n",
      "c:\\software\\others\\python\\install3.6.4\\lib\\site-packages\\win32\n",
      "c:\\software\\others\\python\\install3.6.4\\lib\\site-packages\\win32\\lib\n",
      "c:\\software\\others\\python\\install3.6.4\\lib\\site-packages\\Pythonwin\n",
      "c:\\software\\others\\python\\install3.6.4\\lib\\site-packages\\IPython\\extensions\n",
      "C:\\Users\\14259\\.ipython\n",
      "\n",
      "c:\\software\\others\\python\\install3.6.4\\python36.zip\n",
      "c:\\software\\others\\python\\install3.6.4\\DLLs\n",
      "c:\\software\\others\\python\\install3.6.4\\lib\n",
      "c:\\software\\others\\python\\install3.6.4\n",
      "c:\\software\\others\\python\\install3.6.4\\lib\\site-packages\n",
      "c:\\software\\others\\python\\install3.6.4\\lib\\site-packages\\win32\n",
      "c:\\software\\others\\python\\install3.6.4\\lib\\site-packages\\win32\\lib\n",
      "c:\\software\\others\\python\\install3.6.4\\lib\\site-packages\\Pythonwin\n",
      "c:\\software\\others\\python\\install3.6.4\\lib\\site-packages\\IPython\\extensions\n",
      "C:\\Users\\14259\\.ipython\n",
      "C:\\others\\GITHUB\\notebook\n"
     ]
    }
   ],
   "source": [
    "import sys\n",
    "# print(sys.path)\n",
    "\n",
    "for i in sys.path:\n",
    "    print(i)\n",
    "    \n",
    "# 添加自己的搜索目录\n",
    "sys.path.append(\"C:\\\\others\\\\GITHUB\\\\notebook\")\n",
    "\n",
    "# 还有一种方法，设置环境变量PATHONPATH，与设置PATH环境变量相似。"
   ]
  }
 ],
 "metadata": {
  "kernelspec": {
   "display_name": "Python 3",
   "language": "python",
   "name": "python3"
  },
  "language_info": {
   "codemirror_mode": {
    "name": "ipython",
    "version": 3
   },
   "file_extension": ".py",
   "mimetype": "text/x-python",
   "name": "python",
   "nbconvert_exporter": "python",
   "pygments_lexer": "ipython3",
   "version": "3.6.4"
  }
 },
 "nbformat": 4,
 "nbformat_minor": 2
}
