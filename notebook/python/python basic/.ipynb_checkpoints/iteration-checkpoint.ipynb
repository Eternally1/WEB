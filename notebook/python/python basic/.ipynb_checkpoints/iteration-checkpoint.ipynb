{
 "cells": [
  {
   "cell_type": "markdown",
   "metadata": {},
   "source": [
    "### 迭代器与生成器"
   ]
  },
  {
   "cell_type": "markdown",
   "metadata": {},
   "source": [
    "迭代器是一个可以记住遍历位置的对象\n",
    "__字符串，列表或者元组__对象都可以用于创建迭代器\n",
    "\n"
   ]
  },
  {
   "cell_type": "code",
   "execution_count": null,
   "metadata": {},
   "outputs": [],
   "source": [
    "list1 = [1,2,3,4]\n",
    "# 创建迭代器对象\n",
    "it = iter(list1)\n",
    "print(next(it))\n",
    "\n",
    "# 迭代器可以通过使用for语句进行遍历\n",
    "# for i in it:\n",
    "#     print(i,end=\" \")\n",
    "\n",
    "# 另一种遍历输出\n",
    "import sys\n",
    "while True:\n",
    "    try:\n",
    "        print(next(it))\n",
    "    except StopIteration:\n",
    "        sys.exit\n",
    "\n",
    "    "
   ]
  },
  {
   "cell_type": "markdown",
   "metadata": {},
   "source": [
    "判断对象是否可以迭代"
   ]
  },
  {
   "cell_type": "code",
   "execution_count": 3,
   "metadata": {},
   "outputs": [
    {
     "name": "stdout",
     "output_type": "stream",
     "text": [
      "True\n"
     ]
    }
   ],
   "source": [
    "import collections\n",
    "# collections模块的Iterable类型来判断\n",
    "print(isinstance('abc',collections.Iterable))"
   ]
  },
  {
   "cell_type": "markdown",
   "metadata": {},
   "source": [
    "使用迭代查找一个列表中的最小最和最大值，并返回一个tuple"
   ]
  },
  {
   "cell_type": "code",
   "execution_count": 16,
   "metadata": {},
   "outputs": [
    {
     "name": "stdout",
     "output_type": "stream",
     "text": [
      "[-90, 2, 3, 4, 112, 1, 5, 4, 1, 32, 12, 90]\n",
      "(-90, 112)\n"
     ]
    }
   ],
   "source": [
    "def findMinAndMax(L):\n",
    "    if len(L):\n",
    "        min,max = L[0],L[0]\n",
    "        print(L)\n",
    "        for i in L:\n",
    "            if min>i:\n",
    "                min = i;\n",
    "            elif max < i:\n",
    "                max = i\n",
    "            else:\n",
    "                pass\n",
    "        return (min,max)\n",
    "    else:\n",
    "        print(\"列表为空\")\n",
    "        return (None,None)\n",
    "\n",
    "list1 = [-90,2,3,4,112,1,5,4,1,32,12,90]\n",
    "list2 = []\n",
    "print(findMinAndMax(list1))"
   ]
  },
  {
   "cell_type": "markdown",
   "metadata": {},
   "source": [
    "#### 生成器"
   ]
  },
  {
   "cell_type": "markdown",
   "metadata": {},
   "source": [
    "使用了**yield**的函数被称为生成器，它返回的是迭代器，只能用于迭代操作。\n",
    "调用一个生成器函数，返回的是一个迭代器对象"
   ]
  },
  {
   "cell_type": "code",
   "execution_count": 17,
   "metadata": {},
   "outputs": [
    {
     "name": "stdout",
     "output_type": "stream",
     "text": [
      "0 1 1 2 3 5 8 13 21 34 55 "
     ]
    }
   ],
   "source": [
    "import sys\n",
    "\n",
    "def fibonacci(n):\n",
    "    a,b,counter = 0,1,0\n",
    "    while True:\n",
    "        if counter>n:\n",
    "            return\n",
    "        yield a\n",
    "        a,b = b,a+b\n",
    "        counter += 1\n",
    "f = fibonacci(10)\n",
    "\n",
    "for i in f:\n",
    "    print(i,end=\" \")\n",
    "\n",
    "# while True:\n",
    "#     try:\n",
    "#         print(next(f),end=\" \")\n",
    "#     except StopIteration:\n",
    "#         sys.exit"
   ]
  },
  {
   "cell_type": "code",
   "execution_count": 24,
   "metadata": {},
   "outputs": [
    {
     "name": "stdout",
     "output_type": "stream",
     "text": [
      "[0, 1, 4, 9, 16, 25, 36, 49, 64, 81]\n",
      "<generator object <genexpr> at 0x0569FE70>\n",
      "0\n",
      "1 4 9 16 25 36 49 64 81 "
     ]
    }
   ],
   "source": [
    "l = [x*x for x in range(10)]\n",
    "print(l)\n",
    "\n",
    "# 将列表生成式的[] 改成()就可以创建一个generator\n",
    "g = (x*x for x in range(10))\n",
    "print(g)\n",
    "print(next(g))\n",
    "\n",
    "# 使用for循环输出\n",
    "for i in g:\n",
    "    print(i,end=\" \")\n",
    "    \n"
   ]
  },
  {
   "attachments": {
    "image.png": {
     "image/png": "[encoded data removed]"
    }
   },
   "cell_type": "markdown",
   "metadata": {},
   "source": [
    "杨辉三角\n",
    "![image.png](attachment:image.png)"
   ]
  },
  {
   "cell_type": "markdown",
   "metadata": {},
   "source": [
    "把每一行看做一个list，写一个generator，不断输出下一行的list.\n",
    "借鉴的别人的方法，通过画图可以看懂。"
   ]
  },
  {
   "cell_type": "code",
   "execution_count": 34,
   "metadata": {},
   "outputs": [
    {
     "name": "stdout",
     "output_type": "stream",
     "text": [
      "[1]\n",
      "[1, 1]\n",
      "[1, 2, 1]\n",
      "[1, 3, 3, 1]\n"
     ]
    }
   ],
   "source": [
    "def triangles():\n",
    "    L=[1]\n",
    "    while True:\n",
    "        yield L\n",
    "        L.append(0)\n",
    "        L=[L[i-1]+L[i] for i in range(len(L))]\n",
    "\n",
    "t = triangles()"
   ]
  }
 ],
 "metadata": {
  "kernelspec": {
   "display_name": "Python 3",
   "language": "python",
   "name": "python3"
  },
  "language_info": {
   "codemirror_mode": {
    "name": "ipython",
    "version": 3
   },
   "file_extension": ".py",
   "mimetype": "text/x-python",
   "name": "python",
   "nbconvert_exporter": "python",
   "pygments_lexer": "ipython3",
   "version": "3.6.4"
  }
 },
 "nbformat": 4,
 "nbformat_minor": 2
}
