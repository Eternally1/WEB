{
 "cells": [
  {
   "cell_type": "markdown",
   "metadata": {},
   "source": [
    "## IO编程"
   ]
  },
  {
   "cell_type": "markdown",
   "metadata": {},
   "source": [
    "相关的一些文件操作可以查看file.ipynb\n"
   ]
  },
  {
   "cell_type": "markdown",
   "metadata": {},
   "source": [
    "### StringIO"
   ]
  },
  {
   "cell_type": "markdown",
   "metadata": {},
   "source": [
    "StringIO顾名思义就是在内存中读写str"
   ]
  },
  {
   "cell_type": "code",
   "execution_count": 4,
   "metadata": {},
   "outputs": [
    {
     "name": "stdout",
     "output_type": "stream",
     "text": [
      "Hello World!\n",
      "Hello!\n",
      "Hi\n",
      "GoodBye\n"
     ]
    }
   ],
   "source": [
    "from io import StringIO\n",
    "f = StringIO()\n",
    "f.write(\"Hello\")\n",
    "f.write(' World!')\n",
    "print(f.getvalue())\n",
    "\n",
    "# 读取\n",
    "f1 = StringIO(\"Hello!\\nHi\\nGoodBye\")\n",
    "while True:\n",
    "    s = f1.readline()\n",
    "    if s == \"\":\n",
    "        break;\n",
    "    print(s.strip())"
   ]
  },
  {
   "cell_type": "markdown",
   "metadata": {},
   "source": [
    "### BytesIO"
   ]
  },
  {
   "cell_type": "markdown",
   "metadata": {},
   "source": [
    "操作二进制数据"
   ]
  },
  {
   "cell_type": "code",
   "execution_count": 6,
   "metadata": {},
   "outputs": [
    {
     "name": "stdout",
     "output_type": "stream",
     "text": [
      "b'\\xe4\\xb8\\xad\\xe6\\x96\\x87'\n"
     ]
    }
   ],
   "source": [
    "from io import BytesIO\n",
    "\n",
    "f = BytesIO()\n",
    "f.write('中文'.encode('utf-8'))\n",
    "print(f.getvalue())"
   ]
  },
  {
   "cell_type": "markdown",
   "metadata": {},
   "source": [
    "### 操作文件和目录"
   ]
  },
  {
   "cell_type": "code",
   "execution_count": 26,
   "metadata": {},
   "outputs": [
    {
     "name": "stdout",
     "output_type": "stream",
     "text": [
      "操作系统名字是nt\n",
      "详细的系统信息\n",
      "\n",
      "操作系统中定义的环境变量\n",
      "\n",
      "C:\\software\\cmder\\cmder\\config\\user-aliases.cmd\n",
      "查看当前目录的绝对路径\n",
      "\n",
      "C:\\others\\GITHUB\\notebook\\python\\python basic\n"
     ]
    }
   ],
   "source": [
    "import os\n",
    "print(\"操作系统名字是%s\"% os.name)\n",
    "\n",
    "print(\"详细的系统信息\\n\")\n",
    "# print(os.uname()) #这个不支持windows系统\n",
    "\n",
    "print(\"操作系统中定义的环境变量\\n\")\n",
    "# print(os.environ)\n",
    "\n",
    "print(os.environ.get('ALIASES'))\n",
    "\n",
    "print(\"查看当前目录的绝对路径\\n\")\n",
    "print(os.path.abspath('.'))\n",
    "\n",
    "# 第一步是将新目录的路径表示出来，然后在创建\n",
    "# print(\"在某个目录下面创建一个新的目录\")\n",
    "new_path = os.path.join(os.path.abspath('.'),'test1')\n",
    "# os.mkdir(new_path)\n",
    "\n",
    "print(\"删除目录\")\n",
    "os.rmdir(new_path)"
   ]
  }
 ],
 "metadata": {
  "kernelspec": {
   "display_name": "Python 3",
   "language": "python",
   "name": "python3"
  },
  "language_info": {
   "codemirror_mode": {
    "name": "ipython",
    "version": 3
   },
   "file_extension": ".py",
   "mimetype": "text/x-python",
   "name": "python",
   "nbconvert_exporter": "python",
   "pygments_lexer": "ipython3",
   "version": "3.6.4"
  }
 },
 "nbformat": 4,
 "nbformat_minor": 2
}
