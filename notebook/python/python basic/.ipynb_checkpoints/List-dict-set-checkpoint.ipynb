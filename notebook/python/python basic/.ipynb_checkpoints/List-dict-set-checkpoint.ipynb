{
 "cells": [
  {
   "cell_type": "markdown",
   "metadata": {},
   "source": [
    "### 列表"
   ]
  },
  {
   "cell_type": "code",
   "execution_count": 5,
   "metadata": {},
   "outputs": [
    {
     "name": "stdout",
     "output_type": "stream",
     "text": [
      "['Tom', 'Mary', 'Jack', 'Tim', 'Tom', 'Mary', 'Jack', 'Tim']\n",
      "['Tom', 'Mary', 'Jack', 'Tim', 'abc', 'def']\n",
      "['Tom', 'Mary', 'Tim']\n",
      "['Mary', 'Tim']\n"
     ]
    }
   ],
   "source": [
    "# +表示连接运算符，*表示重复运算符\n",
    "list = ['Tom','Mary','Jack','Tim']\n",
    "print(list * 2)\n",
    "print(list + ['abc','def'])\n",
    "# 不能连接字符串\n",
    "# print(list + 'abc')\n",
    "\n",
    "# 删除列表元素\n",
    "del list[2]\n",
    "print(list)\n",
    "\n",
    "# 列表截取\n",
    "print(list[1:])\n",
    "\n",
    "\n"
   ]
  },
  {
   "cell_type": "markdown",
   "metadata": {},
   "source": [
    "#### 列表函数和方法"
   ]
  },
  {
   "cell_type": "code",
   "execution_count": 39,
   "metadata": {},
   "outputs": [
    {
     "name": "stdout",
     "output_type": "stream",
     "text": [
      "7\n",
      "6\n",
      "1\n",
      "<class 'list'>\n",
      "['h', 'e', 'l', 'l', 'o', 'w', 'o', 'r', 'l', 'd']\n"
     ]
    }
   ],
   "source": [
    "list1 = [1,2,3,4,5,6,3]\n",
    "print(len(list1))\n",
    "print(max(list1))\n",
    "print(min(list1))\n",
    "\n",
    "# 这里需要先删除构造函数，不清楚原因是什么，也不需要了\n",
    "# del list\n",
    "# 将元组转化为列表\n",
    "tuple1 = (\"Roobee\",'Tom','mary')\n",
    "list2 = list(tuple1)\n",
    "print(type(list2))\n",
    "\n",
    "list3 = list(\"helloworld\")\n",
    "print(list3)"
   ]
  },
  {
   "cell_type": "markdown",
   "metadata": {},
   "source": [
    "#### 方法"
   ]
  },
  {
   "cell_type": "code",
   "execution_count": 7,
   "metadata": {},
   "outputs": [
    {
     "name": "stdout",
     "output_type": "stream",
     "text": [
      "3\n",
      "4\n",
      "[12, 12, 23, 1, 'Mary', 'Tom']\n",
      "list3 [1, 1, 2, 2, 3, 4, 32, 53, 121]\n",
      "list4 [1, 1, 2, 2, 3, 4, 32, 53, 121]\n",
      "[1, 1, 2, 2, 3, 4, 32, 53, 121, 'llll']\n"
     ]
    }
   ],
   "source": [
    "list1 = ['Tom','Mary',1,23,12,12,12]\n",
    "\n",
    "list1.append(\"234\")\n",
    "print(list1.count(12))\n",
    "# “12” 和 12在这里是不一样的。\n",
    "print(list1.index(12))\n",
    "\n",
    "list1.insert(2,\"Jack\")\n",
    "list1.pop()\n",
    "list1.pop(2)\n",
    "\n",
    "# remove用于一处列表中某个值的第一个匹配项,若不存在，会报错\n",
    "list1.remove(12)\n",
    "list1.reverse()\n",
    "\n",
    "print(list1)\n",
    "\n",
    "list2 = [1,2,3,2,1,4,53,121,32]\n",
    "list2.sort()\n",
    "\n",
    "# 这两种复制方式都是复制出一个新的列表，互不影响。\n",
    "list3 = list2[:]\n",
    "list4 = list2.copy()\n",
    "list2.append(\"llll\")\n",
    "print(\"list3\",list3)\n",
    "print(\"list4\",list4)\n",
    "\n",
    "print(list2)"
   ]
  },
  {
   "cell_type": "markdown",
   "metadata": {},
   "source": [
    "#### 对列表实现下标循环"
   ]
  },
  {
   "cell_type": "code",
   "execution_count": 10,
   "metadata": {},
   "outputs": [
    {
     "name": "stdout",
     "output_type": "stream",
     "text": [
      "((0, 1), (1, 2), (2, 3), (3, 2), (4, 1), (5, 4), (6, 53), (7, 121), (8, 32))\n",
      "0 1\n",
      "1 2\n",
      "2 3\n",
      "3 2\n",
      "4 1\n",
      "5 4\n",
      "6 53\n",
      "7 121\n",
      "8 32\n"
     ]
    }
   ],
   "source": [
    "list2 = [1,2,3,2,1,4,53,121,32]\n",
    "print(tuple(enumerate(list2)))\n",
    "for i,value in enumerate(list2):\n",
    "    print(i,value)"
   ]
  },
  {
   "cell_type": "markdown",
   "metadata": {},
   "source": [
    "#### 列表生成式"
   ]
  },
  {
   "cell_type": "code",
   "execution_count": 18,
   "metadata": {},
   "outputs": [
    {
     "name": "stdout",
     "output_type": "stream",
     "text": [
      "*****使用循环********\n",
      "[1, 4, 9, 16, 25, 36, 49, 64, 81, 100]\n",
      "****使用列表生成式*********\n",
      "[1, 4, 9, 16, 25, 36, 49, 64, 81, 100]\n",
      "[4, 16, 36, 64, 100]\n",
      "['AX', 'AY', 'AZ', 'BX', 'BY', 'BZ', 'CX', 'CY', 'CZ']\n"
     ]
    }
   ],
   "source": [
    "print(\"*****使用循环********\")\n",
    "list1 = []\n",
    "for i in range(1,11):\n",
    "    list1.append(i*i)\n",
    "print(list1)\n",
    "print(\"****使用列表生成式*********\")\n",
    "\n",
    "# 生成的元素 x*x 放在前面，后面跟for循环。\n",
    "\n",
    "list2 = [x*x for x in range(1,11)]\n",
    "print(list2)\n",
    "\n",
    "list3 = [x*x for x in range(1,11) if x % 2 ==0]\n",
    "print(list3)\n",
    "\n",
    "# 生成全排列\n",
    "list4 = [m+n for m in \"ABC\" for n in \"XYZ\"]\n",
    "print(list4)\n",
    "\n"
   ]
  },
  {
   "cell_type": "markdown",
   "metadata": {},
   "source": [
    "#### list中既有字符串，又有数字的时候，怎么讲字符串小写，数字删掉"
   ]
  },
  {
   "cell_type": "code",
   "execution_count": 20,
   "metadata": {},
   "outputs": [
    {
     "name": "stdout",
     "output_type": "stream",
     "text": [
      "['hello', 'love', 'ibm', 'good', 'red']\n"
     ]
    }
   ],
   "source": [
    "L = [\"hello\",\"LOVE\",'IBM',22,'GOOD','Red']\n",
    "\n",
    "list1 = [x.lower() for x in L if isinstance(x,str)]\n",
    "print(list1)"
   ]
  },
  {
   "cell_type": "markdown",
   "metadata": {},
   "source": [
    "### 元组"
   ]
  },
  {
   "cell_type": "code",
   "execution_count": 21,
   "metadata": {},
   "outputs": [
    {
     "name": "stdout",
     "output_type": "stream",
     "text": [
      "<class 'tuple'>\n"
     ]
    }
   ],
   "source": [
    "# 只含有一个元素的时候,加逗号\n",
    "tup1 = (50,)\n",
    "print(type(tup1))\n",
    "\n",
    "# 很多和列表相似\n",
    "\n"
   ]
  },
  {
   "cell_type": "markdown",
   "metadata": {},
   "source": [
    "### 字典"
   ]
  },
  {
   "cell_type": "code",
   "execution_count": 37,
   "metadata": {},
   "outputs": [
    {
     "name": "stdout",
     "output_type": "stream",
     "text": [
      "Runoob\n",
      "dict_keys(['one', 2])\n",
      "dict_values(['Runoob', 'flaj'])\n",
      "{}\n",
      "{'key1': 'value1', 'key2': 'value2'}\n",
      "Tom\n"
     ]
    }
   ],
   "source": [
    "dict1 = {}\n",
    "# 可以使用数字作为键\n",
    "dict1[\"one\"] = 'Runoob'\n",
    "dict1[2] = 'flaj'\n",
    "\n",
    "print(dict1['one'])\n",
    "print(dict1.keys())\n",
    "print(dict1.values())\n",
    "\n",
    "# 删除字典元素\n",
    "del dict1['one']\n",
    "# 清空字典\n",
    "dict1.clear()\n",
    "print(dict1)\n",
    "\n",
    "# 删除字典\n",
    "del dict1      \n",
    "\n",
    "# del dict #这里需要先删除，然后在使用dict()构造函数\n",
    "\n",
    "# 构造函数dict()直接从键值对序列中构建字典\n",
    "d = dict([('key1','value1'),('key2','value2')])\n",
    "print(d)\n",
    "\n",
    "# 键不可变，所以可以使用元组充当，但是不可以使用列表\n",
    "dict2 = {('firstname','lastname'):\"Tom\",\"age\":18}\n",
    "print(dict2[('firstname','lastname')])\n",
    "# dict2 = {['name']:\"Tom\",\"age\":18}\n",
    "\n"
   ]
  },
  {
   "cell_type": "markdown",
   "metadata": {},
   "source": [
    "#### 字典内置函数"
   ]
  },
  {
   "cell_type": "code",
   "execution_count": 1,
   "metadata": {},
   "outputs": [
    {
     "name": "stdout",
     "output_type": "stream",
     "text": [
      "{'Name': 'Runoob', 'Age': 7, 'Class': 'First', 'num': [1, 2, 3]}\n",
      "{'Name': 'Runoob', 'Age': 7, 'Class': 'First', 'num': [1, 2, 3]}\n",
      "{'Name': 'Runoob', 'Age': 7, 'Class': 'First', 'num': [2, 3]}\n",
      "{'Name': 'Tom', 'Age': 7, 'Class': 'First', 'num': [2, 3]}\n"
     ]
    }
   ],
   "source": [
    "dict1 = {'Name': 'Runoob', 'Age': 7, 'Class': 'First','num':[1,2,3]}\n",
    "print(str(dict1))\n",
    "\n",
    "# 字典的拷贝\n",
    "dict2 = dict1   # 引用对象\n",
    "print(dict2)\n",
    "\n",
    "dict3 = dict1.copy()   #深拷贝以及目录，二级目录不拷贝，还是引用\n",
    "dict1[\"Name\"] = \"Tom\"\n",
    "dict1[\"num\"].remove(1)\n",
    "print(dict3)\n",
    "\n",
    "# 深拷贝要引入copy模块\n",
    "import copy\n",
    "dict4 = copy.deepcopy(dict1)\n",
    "dict1[\"num\"].remove(2)\n",
    "# 此时dict1中删除2并不会影响dict4.\n",
    "print(dict4)"
   ]
  },
  {
   "cell_type": "markdown",
   "metadata": {},
   "source": [
    "字典也可以迭代"
   ]
  },
  {
   "cell_type": "code",
   "execution_count": 1,
   "metadata": {},
   "outputs": [
    {
     "name": "stdout",
     "output_type": "stream",
     "text": [
      "Name Age Class num \n",
      "-------------\n",
      "Runoob 7 First [1, 2, 3] \n",
      "-------------\n",
      "key=Name, value=Runoob\n",
      "key=Age, value=7\n",
      "key=Class, value=First\n",
      "key=num, value=[1, 2, 3]\n"
     ]
    }
   ],
   "source": [
    "dict1 = {'Name': 'Runoob', 'Age': 7, 'Class': 'First','num':[1,2,3]}\n",
    "# 迭代键\n",
    "for key in dict1:\n",
    "    print(key,end=\" \")\n",
    "# 迭代值\n",
    "print(\"\\n-------------\")\n",
    "for value in dict1.values():\n",
    "    print(value,end=\" \")\n",
    "print(\"\\n-------------\")\n",
    "# 同时迭代键 值\n",
    "for key,value in dict1.items():\n",
    "    print(\"key=%s, value=%s\"% (key,value))"
   ]
  },
  {
   "cell_type": "markdown",
   "metadata": {},
   "source": [
    "### set"
   ]
  },
  {
   "cell_type": "markdown",
   "metadata": {},
   "source": [
    "set创建需要提供一个list作为输入集合"
   ]
  },
  {
   "cell_type": "code",
   "execution_count": 8,
   "metadata": {},
   "outputs": [
    {
     "name": "stdout",
     "output_type": "stream",
     "text": [
      "{1, 2, 3, 4}\n",
      "{1, 2, 3, 4, 8}\n",
      "{1, 2, 3, 4}\n",
      "{2, 3}\n",
      "{1, 2, 3, 4}\n"
     ]
    }
   ],
   "source": [
    "list1 = [1,2,3,2,1,4,2,3]\n",
    "s = set(list1)\n",
    "print(s)\n",
    "\n",
    "# 添加\n",
    "s.add(8)\n",
    "print(s)\n",
    "\n",
    "# 删除\n",
    "s.remove(8)\n",
    "print(s)\n",
    "\n",
    "# 交际和并集\n",
    "a = set([1,2,3])\n",
    "b = set([2,3,4])\n",
    "print(a&b)\n",
    "print(a|b)"
   ]
  }
 ],
 "metadata": {
  "kernelspec": {
   "display_name": "Python 3",
   "language": "python",
   "name": "python3"
  },
  "language_info": {
   "codemirror_mode": {
    "name": "ipython",
    "version": 3
   },
   "file_extension": ".py",
   "mimetype": "text/x-python",
   "name": "python",
   "nbconvert_exporter": "python",
   "pygments_lexer": "ipython3",
   "version": "3.6.4"
  }
 },
 "nbformat": 4,
 "nbformat_minor": 2
}
