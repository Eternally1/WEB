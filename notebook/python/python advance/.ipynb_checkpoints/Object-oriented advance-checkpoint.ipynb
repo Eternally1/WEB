{
 "cells": [
  {
   "cell_type": "markdown",
   "metadata": {},
   "source": [
    "# 面向对象高级编程"
   ]
  },
  {
   "cell_type": "markdown",
   "metadata": {},
   "source": [
    "部分小的知识在onenote中记载的有"
   ]
  },
  {
   "cell_type": "markdown",
   "metadata": {},
   "source": [
    "## 类的方法"
   ]
  },
  {
   "cell_type": "code",
   "execution_count": 10,
   "metadata": {},
   "outputs": [
    {
     "name": "stdout",
     "output_type": "stream",
     "text": [
      "Knock!\n",
      "Knock!\n",
      "blue\n",
      "<bound method Door.knock of <class '__main__.Door'>>\n",
      "<bound method Door.knock of <class '__main__.Door'>>\n"
     ]
    }
   ],
   "source": [
    "# 使用装饰器  @classmethod\n",
    "class Door():\n",
    "    colour = 'brown'\n",
    "    def __init__(self,number,status):\n",
    "        self.number = number\n",
    "        self.status = status\n",
    "        \n",
    "    @classmethod\n",
    "    def knock(cls):\n",
    "        print(\"Knock!\")\n",
    "    \n",
    "    @classmethod\n",
    "    def paint(cls,colour):\n",
    "        cls.colour = colour\n",
    "    \n",
    "door1 = Door(1001,'closed')\n",
    "# 实例也可以调用\n",
    "door1.knock()\n",
    "Door.knock()\n",
    "Door.paint(\"red\")\n",
    "door1.paint(\"blue\")\n",
    "print(Door.colour)\n",
    "\n",
    "print(door1.knock)\n",
    "print(Door.knock)"
   ]
  },
  {
   "cell_type": "markdown",
   "metadata": {},
   "source": [
    "knock方法接受一个参数cls，不是一个实例，而是类本身，这意味着可以在方法内操作这个类"
   ]
  },
  {
   "cell_type": "markdown",
   "metadata": {},
   "source": [
    "## 组合"
   ]
  },
  {
   "cell_type": "code",
   "execution_count": null,
   "metadata": {},
   "outputs": [],
   "source": [
    "class Door():\n",
    "    colour = 'brown'\n",
    "    def __init__(self,number,status):\n",
    "        self.number = number\n",
    "        self.status = status\n",
    "        \n",
    "    @classmethod\n",
    "    def knock(cls):\n",
    "        print(\"Knock!\")\n",
    "    \n",
    "    @classmethod\n",
    "    def paint(cls,colour):\n",
    "        cls.colour = colour\n",
    "        \n",
    "    def open(self):\n",
    "        self.status = \"open\"\n",
    "        \n",
    "    def close(self):\n",
    "        self.status = \"close\"\n",
    "# 注意这里srcurityDoor没有继承Door\n",
    "class SecurityDoor:\n",
    "    colour = 'gray'\n",
    "    locked = True\n",
    "    \n",
    "    def __init__(self,number,status):\n",
    "        self.door = Door(number,status)\n",
    "        \n",
    "    def open(self):\n",
    "        if self.locked:\n",
    "            return\n",
    "        self.door.open()\n",
    "        \n",
    "    def close(self):\n",
    "        self.door.close()\n",
    "\n",
    "    "
   ]
  }
 ],
 "metadata": {
  "kernelspec": {
   "display_name": "Python 3",
   "language": "python",
   "name": "python3"
  },
  "language_info": {
   "codemirror_mode": {
    "name": "ipython",
    "version": 3
   },
   "file_extension": ".py",
   "mimetype": "text/x-python",
   "name": "python",
   "nbconvert_exporter": "python",
   "pygments_lexer": "ipython3",
   "version": "3.6.4"
  }
 },
 "nbformat": 4,
 "nbformat_minor": 2
}
