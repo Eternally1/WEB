{
 "cells": [
  {
   "cell_type": "markdown",
   "metadata": {},
   "source": [
    "#### python保留字"
   ]
  },
  {
   "cell_type": "code",
   "execution_count": 3,
   "metadata": {},
   "outputs": [
    {
     "name": "stdout",
     "output_type": "stream",
     "text": [
      "['False', 'None', 'True', 'and', 'as', 'assert', 'break', 'class', 'continue', 'def', 'del', 'elif', 'else', 'except', 'finally', 'for', 'from', 'global', 'if', 'import', 'in', 'is', 'lambda', 'nonlocal', 'not', 'or', 'pass', 'raise', 'return', 'try', 'while', 'with', 'yield']\n"
     ]
    }
   ],
   "source": [
    "import keyword\n",
    "print(keyword.kwlist)"
   ]
  },
  {
   "cell_type": "markdown",
   "metadata": {},
   "source": [
    "#### 多行语句\n",
    "##### 多行语句的写法"
   ]
  },
  {
   "cell_type": "code",
   "execution_count": 41,
   "metadata": {},
   "outputs": [
    {
     "ename": "IndentationError",
     "evalue": "unexpected indent (<ipython-input-41-4768e64ef5e8>, line 2)",
     "output_type": "error",
     "traceback": [
      "\u001b[1;36m  File \u001b[1;32m\"<ipython-input-41-4768e64ef5e8>\"\u001b[1;36m, line \u001b[1;32m2\u001b[0m\n\u001b[1;33m    \"item_two \" +         \"item_three \"\u001b[0m\n\u001b[1;37m    ^\u001b[0m\n\u001b[1;31mIndentationError\u001b[0m\u001b[1;31m:\u001b[0m unexpected indent\n"
     ]
    }
   ],
   "source": [
    "total = \"item_one \" + \\\n",
    "        \"item_two \" + \\\n",
    "        \"item_three \"\n",
    "print(total)"
   ]
  },
  {
   "cell_type": "markdown",
   "metadata": {},
   "source": [
    "#### 字符串"
   ]
  },
  {
   "cell_type": "code",
   "execution_count": 43,
   "metadata": {
    "collapsed": true
   },
   "outputs": [
    {
     "name": "stdout",
     "output_type": "stream",
     "text": [
      "this is a line with \\n\n",
      "Runoo\n",
      "noob\n",
      "RunoobRunoob\n"
     ]
    },
    {
     "ename": "TypeError",
     "evalue": "'str' object does not support item assignment",
     "output_type": "error",
     "traceback": [
      "\u001b[1;31m---------------------------------------------------------------------------\u001b[0m",
      "\u001b[1;31mTypeError\u001b[0m                                 Traceback (most recent call last)",
      "\u001b[1;32m<ipython-input-43-c8d57874612e>\u001b[0m in \u001b[0;36m<module>\u001b[1;34m()\u001b[0m\n\u001b[0;32m     11\u001b[0m \u001b[1;33m\u001b[0m\u001b[0m\n\u001b[0;32m     12\u001b[0m \u001b[1;31m# python字符串不能被改变\u001b[0m\u001b[1;33m\u001b[0m\u001b[1;33m\u001b[0m\u001b[0m\n\u001b[1;32m---> 13\u001b[1;33m \u001b[0mstring\u001b[0m\u001b[1;33m[\u001b[0m\u001b[1;36m0\u001b[0m\u001b[1;33m]\u001b[0m \u001b[1;33m=\u001b[0m \u001b[1;34m'm'\u001b[0m  \u001b[1;31m#会报错\u001b[0m\u001b[1;33m\u001b[0m\u001b[0m\n\u001b[0m",
      "\u001b[1;31mTypeError\u001b[0m: 'str' object does not support item assignment"
     ]
    }
   ],
   "source": [
    "# 自然字符串  不受转义影响，换行符是直接输出\n",
    "print(r\"this is a line with \\n\")\n",
    "\n",
    "# unicode字符串  目前不是很明了\n",
    "string = \"中国\"\n",
    "\n",
    "string = \"Runoob\"\n",
    "print(string[0:-1])   #-1表示倒数第一，因此输出的是第一个到倒数第二个之间的字符\n",
    "print(string[2:])\n",
    "print(string * 2)\n",
    "\n",
    "# python字符串不能被改变\n",
    "# string[0] = 'm'  #会报错\n",
    "\n"
   ]
  },
  {
   "cell_type": "markdown",
   "metadata": {},
   "source": [
    "#### input"
   ]
  },
  {
   "cell_type": "code",
   "execution_count": 18,
   "metadata": {},
   "outputs": [
    {
     "name": "stdout",
     "output_type": "stream",
     "text": [
      "请输入一句话:\n",
      "hello\n",
      "hello\n"
     ]
    }
   ],
   "source": [
    "inputstr = input('请输入一句话:\\n')\n",
    "print(inputstr)"
   ]
  },
  {
   "cell_type": "markdown",
   "metadata": {},
   "source": [
    "#### print"
   ]
  },
  {
   "cell_type": "code",
   "execution_count": 21,
   "metadata": {},
   "outputs": [
    {
     "name": "stdout",
     "output_type": "stream",
     "text": [
      "lala   alla\n"
     ]
    }
   ],
   "source": [
    "print(\"lala\",end=\"   \")\n",
    "print(\"alla\")"
   ]
  },
  {
   "cell_type": "markdown",
   "metadata": {},
   "source": [
    "#### 多个变量赋值"
   ]
  },
  {
   "cell_type": "code",
   "execution_count": 25,
   "metadata": {},
   "outputs": [
    {
     "name": "stdout",
     "output_type": "stream",
     "text": [
      "1 2 3  "
     ]
    }
   ],
   "source": [
    "a,b,c = 1,2,3\n",
    "print(a,b,c,end=\"  \")"
   ]
  },
  {
   "cell_type": "markdown",
   "metadata": {},
   "source": [
    "#### 标准数据类型\n",
    "Number -- String -- List(列表) -- Tuple(元组) -- Sets(集合) -- Dictionary(字典)"
   ]
  },
  {
   "cell_type": "code",
   "execution_count": 50,
   "metadata": {},
   "outputs": [
    {
     "name": "stdout",
     "output_type": "stream",
     "text": [
      "True\n",
      "1\n"
     ]
    }
   ],
   "source": [
    "# isinstance\n",
    "a = 111\n",
    "print(isinstance(a,int))\n",
    "\n",
    "# type和isinstance的区别\n",
    "# type()不会认为子类是一种父类类型，isinstance()会认为子类是一种父类类型\n",
    "\n",
    "print(5//4)  # 获取整数部分"
   ]
  },
  {
   "cell_type": "markdown",
   "metadata": {},
   "source": [
    "#### 列表"
   ]
  },
  {
   "cell_type": "code",
   "execution_count": 49,
   "metadata": {
    "collapsed": true
   },
   "outputs": [
    {
     "name": "stdout",
     "output_type": "stream",
     "text": [
      "['Tom', 'Mary', 'Jack', 'Tim', 'Tom', 'Mary', 'Jack', 'Tim']\n",
      "['Tom', 'Mary', 'Jack', 'Tim', 'abc', 'def']\n"
     ]
    },
    {
     "ename": "TypeError",
     "evalue": "can only concatenate list (not \"str\") to list",
     "output_type": "error",
     "traceback": [
      "\u001b[1;31m---------------------------------------------------------------------------\u001b[0m",
      "\u001b[1;31mTypeError\u001b[0m                                 Traceback (most recent call last)",
      "\u001b[1;32m<ipython-input-49-7707978ab3f6>\u001b[0m in \u001b[0;36m<module>\u001b[1;34m()\u001b[0m\n\u001b[0;32m      4\u001b[0m \u001b[0mprint\u001b[0m\u001b[1;33m(\u001b[0m\u001b[0mlist\u001b[0m \u001b[1;33m+\u001b[0m \u001b[1;33m[\u001b[0m\u001b[1;34m'abc'\u001b[0m\u001b[1;33m,\u001b[0m\u001b[1;34m'def'\u001b[0m\u001b[1;33m]\u001b[0m\u001b[1;33m)\u001b[0m\u001b[1;33m\u001b[0m\u001b[0m\n\u001b[0;32m      5\u001b[0m \u001b[1;31m# 不能连接字符串\u001b[0m\u001b[1;33m\u001b[0m\u001b[1;33m\u001b[0m\u001b[0m\n\u001b[1;32m----> 6\u001b[1;33m \u001b[0mprint\u001b[0m\u001b[1;33m(\u001b[0m\u001b[0mlist\u001b[0m \u001b[1;33m+\u001b[0m \u001b[1;34m'abc'\u001b[0m\u001b[1;33m)\u001b[0m\u001b[1;33m\u001b[0m\u001b[0m\n\u001b[0m",
      "\u001b[1;31mTypeError\u001b[0m: can only concatenate list (not \"str\") to list"
     ]
    }
   ],
   "source": [
    "# +表示连接运算符，*表示重复运算符\n",
    "list = ['Tom','Mary','Jack','Tim']\n",
    "print(list * 2)\n",
    "print(list + ['abc','def'])\n",
    "# 不能连接字符串\n",
    "# print(list + 'abc')\n",
    "\n"
   ]
  },
  {
   "cell_type": "markdown",
   "metadata": {},
   "source": [
    "#### set集合"
   ]
  },
  {
   "cell_type": "markdown",
   "metadata": {},
   "source": [
    "创建一个空的集合必须使用set(),而不能使用{}，因为{}是创建空字典的"
   ]
  },
  {
   "cell_type": "code",
   "execution_count": 62,
   "metadata": {},
   "outputs": [
    {
     "name": "stdout",
     "output_type": "stream",
     "text": [
      "{'a', 'c', 'b'}\n",
      "<class 'dict'>\n",
      "<class 'set'>\n",
      "a在集合中\n",
      "{'d', 'a', 'c', 'b'}\n",
      "{'a', 'b', 'g', 'h', 'f'}\n",
      "{'d', 'c'}\n",
      "{'a', 'b', 'g', 'd', 'h', 'f', 'c'}\n",
      "{'a', 'b'}\n",
      "{'d', 'h', 'f', 'g', 'c'}\n"
     ]
    }
   ],
   "source": [
    "a = {'a','b','c','a','b'}\n",
    "print(a)\n",
    "b = {}\n",
    "c = set()\n",
    "print(type(b))\n",
    "print(type(c))\n",
    "\n",
    "# 成员测试\n",
    "if 'a' in a:\n",
    "    print(\"a在集合中\")\n",
    "else:\n",
    "    print(\"a不在集合中\");\n",
    "\n",
    "# 集合的运算\n",
    "A = set('abcdcba')\n",
    "a = set('abfhg')\n",
    "print(A)\n",
    "print(a)\n",
    "print(A - a)   #在A中不在a中的\n",
    "print(A | a)   #并集\n",
    "print(A & a)   #交集\n",
    "print(A ^ a)   #不同时存在的元素"
   ]
  },
  {
   "cell_type": "markdown",
   "metadata": {},
   "source": [
    "#### 字典"
   ]
  },
  {
   "cell_type": "code",
   "execution_count": 80,
   "metadata": {},
   "outputs": [
    {
     "name": "stdout",
     "output_type": "stream",
     "text": [
      "Runoob\n",
      "dict_keys(['one', 2])\n",
      "dict_values(['Runoob', 'flaj'])\n",
      "{'key1': 'value1', 'key2': 'value2'}\n",
      "{}\n"
     ]
    }
   ],
   "source": [
    "dict = {}\n",
    "# 可以使用数字作为键\n",
    "dict[\"one\"] = 'Runoob'\n",
    "dict[2] = 'flaj'\n",
    "\n",
    "print(dict['one'])\n",
    "print(dict.keys())\n",
    "print(dict.values())\n",
    "\n",
    "del(dict) #这里需要先删除，然后在使用dict()构造函数\n",
    "\n",
    "# 构造函数dict()直接从键值对序列中构建字典\n",
    "d = dict([('key1','value1'),('key2','value2')])\n",
    "print(d)\n",
    "\n",
    "d.clear()\n",
    "print(d)"
   ]
  },
  {
   "cell_type": "markdown",
   "metadata": {},
   "source": [
    "#### repr()"
   ]
  },
  {
   "cell_type": "markdown",
   "metadata": {},
   "source": [
    "repr()转化为供解释器读取的形式，str()用于将值转化为适于人阅读的形式"
   ]
  },
  {
   "cell_type": "markdown",
   "metadata": {},
   "source": [
    "#### eval()\n",
    "\n",
    "eval()函数用来执行一个字符串表达式，并返回表达式的值"
   ]
  },
  {
   "cell_type": "code",
   "execution_count": 88,
   "metadata": {},
   "outputs": [
    {
     "name": "stdout",
     "output_type": "stream",
     "text": [
      "14\n",
      "a\n"
     ]
    }
   ],
   "source": [
    "x = 7\n",
    "print(eval('2*x'))\n"
   ]
  }
 ],
 "metadata": {
  "kernelspec": {
   "display_name": "Python 3",
   "language": "python",
   "name": "python3"
  },
  "language_info": {
   "codemirror_mode": {
    "name": "ipython",
    "version": 3
   },
   "file_extension": ".py",
   "mimetype": "text/x-python",
   "name": "python",
   "nbconvert_exporter": "python",
   "pygments_lexer": "ipython3",
   "version": "3.6.4"
  }
 },
 "nbformat": 4,
 "nbformat_minor": 2
}
