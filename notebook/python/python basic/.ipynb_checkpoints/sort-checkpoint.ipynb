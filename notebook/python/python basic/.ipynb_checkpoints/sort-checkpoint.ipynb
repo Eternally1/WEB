{
 "cells": [
  {
   "cell_type": "markdown",
   "metadata": {},
   "source": [
    "## 排序算法"
   ]
  },
  {
   "cell_type": "markdown",
   "metadata": {},
   "source": [
    "内置的排序函数sorted(),也是一个高阶函数，可以接受一个key来定义排序\n",
    "\n",
    "**key指定的函数将作用于list每一个元素之上，然后根据key函数返回的结果进行排序**"
   ]
  },
  {
   "cell_type": "code",
   "execution_count": 9,
   "metadata": {},
   "outputs": [
    {
     "name": "stdout",
     "output_type": "stream",
     "text": [
      "[-21, -12, 5, 9, 36]\n",
      "[5, 9, -12, -21, 36]\n",
      "['Aou', 'D', 'Zoo', 'about', 'bob']\n",
      "['about', 'Aou', 'bob', 'D', 'Zoo']\n",
      "['Zoo', 'D', 'bob', 'Aou', 'about']\n"
     ]
    }
   ],
   "source": [
    "print(sorted([36,5,-21,9,-12]))\n",
    "\n",
    "# key指定的函数作用于list每一个元素上。\n",
    "print(sorted([36,5,-21,9,-12],key=abs))\n",
    "\n",
    "# 默认情况下，是按照ASCII的大小比较的\n",
    "print(sorted(['bob','about','Zoo',\"Aou\",'D']))\n",
    "\n",
    "print(sorted(['bob','about','Zoo',\"Aou\",'D'],key=str.lower))\n",
    "\n",
    "# 逆向排序\n",
    "print(sorted(['bob','about','Zoo',\"Aou\",'D'],key=str.lower,reverse = True))\n"
   ]
  },
  {
   "cell_type": "markdown",
   "metadata": {},
   "source": [
    "### 对列表进行排序"
   ]
  },
  {
   "cell_type": "code",
   "execution_count": 15,
   "metadata": {},
   "outputs": [
    {
     "name": "stdout",
     "output_type": "stream",
     "text": [
      "[('Adam', 92), ('Bart', 66), ('Bob', 75), ('Lisa', 88)]\n"
     ]
    }
   ],
   "source": [
    "L = [('Bob', 75), ('Adam', 92), ('Bart', 66), ('Lisa', 88)]\n",
    "\n",
    "def sort_by_name(t):\n",
    "    return t[0]    \n",
    "\n",
    "# 先将列表中的名字通过方法sort_by_name提取出来，然后在根据默认的sorted函数进行排序\n",
    "\n",
    "L2 = sorted(L,key = sort_by_name)\n",
    "print(L2)"
   ]
  }
 ],
 "metadata": {
  "kernelspec": {
   "display_name": "Python 3",
   "language": "python",
   "name": "python3"
  },
  "language_info": {
   "codemirror_mode": {
    "name": "ipython",
    "version": 3
   },
   "file_extension": ".py",
   "mimetype": "text/x-python",
   "name": "python",
   "nbconvert_exporter": "python",
   "pygments_lexer": "ipython3",
   "version": "3.6.4"
  }
 },
 "nbformat": 4,
 "nbformat_minor": 2
}
