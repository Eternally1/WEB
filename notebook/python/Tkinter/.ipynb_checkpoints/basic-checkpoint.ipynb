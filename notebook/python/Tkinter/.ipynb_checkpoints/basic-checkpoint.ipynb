{
 "cells": [
  {
   "cell_type": "markdown",
   "metadata": {},
   "source": [
    "Tkinter基础"
   ]
  },
  {
   "cell_type": "code",
   "execution_count": 10,
   "metadata": {},
   "outputs": [],
   "source": [
    "from tkinter import *\n",
    "\n",
    "root = Tk()   #创建窗口对象的背景色\n",
    "\n",
    "li = [\"C\",\"python\",\"php\",\"html\",\"SQL\"]\n",
    "movie = [\"CSS\",'Jquery',\"javascript\"]\n",
    "\n",
    "# 创建两个列表组件\n",
    "list1 = Listbox(root)\n",
    "list2 = Listbox(root)\n",
    "\n",
    "# 插入数据\n",
    "for item in li:\n",
    "    list1.insert(0,item)\n",
    "    \n",
    "    \n",
    "for item in movie:\n",
    "    list2.insert(0,item)\n",
    " \n",
    "# 将小部件放置到主窗口\n",
    "list1.pack()\n",
    "list2.pack()\n",
    "root.mainloop()"
   ]
  },
  {
   "cell_type": "markdown",
   "metadata": {},
   "source": [
    "#### 窗口主体框架"
   ]
  },
  {
   "cell_type": "code",
   "execution_count": 14,
   "metadata": {},
   "outputs": [],
   "source": [
    "import tkinter as tk\n",
    "\n",
    "window = tk.Tk()\n",
    "window.title('MyWindow')\n",
    "\n",
    "# 这里是窗口内容\n",
    "\n",
    "window.mainloop()"
   ]
  },
  {
   "cell_type": "markdown",
   "metadata": {},
   "source": [
    "创建标签"
   ]
  },
  {
   "cell_type": "code",
   "execution_count": 3,
   "metadata": {},
   "outputs": [],
   "source": [
    "import tkinter as tk\n",
    "\n",
    "# 一个带有窗口管理器提供的标题栏和其他装饰窗口\n",
    "window = tk.Tk()\n",
    "window.title('MyWindow')\n",
    "\n",
    "# 这里是窗口内容\n",
    "label1 = tk.Label(\n",
    "    window,\n",
    "    text=\"OMG,This is my shoe\",  #标签的文字\n",
    "    bg = 'green',       #背景颜色\n",
    "    font=('Arial',12),  #字体和字体大小\n",
    "    width=15,height=2   #标签长宽\n",
    ")\n",
    "label1.pack()\n",
    "window.mainloop()"
   ]
  }
 ],
 "metadata": {
  "kernelspec": {
   "display_name": "Python 3",
   "language": "python",
   "name": "python3"
  },
  "language_info": {
   "codemirror_mode": {
    "name": "ipython",
    "version": 3
   },
   "file_extension": ".py",
   "mimetype": "text/x-python",
   "name": "python",
   "nbconvert_exporter": "python",
   "pygments_lexer": "ipython3",
   "version": "3.6.4"
  }
 },
 "nbformat": 4,
 "nbformat_minor": 2
}
