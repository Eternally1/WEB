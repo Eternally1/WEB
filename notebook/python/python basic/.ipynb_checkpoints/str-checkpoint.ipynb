{
 "cells": [
  {
   "cell_type": "markdown",
   "metadata": {},
   "source": [
    "#### python字符串"
   ]
  },
  {
   "cell_type": "markdown",
   "metadata": {},
   "source": [
    "#### 转义字符"
   ]
  },
  {
   "cell_type": "code",
   "execution_count": 42,
   "metadata": {},
   "outputs": [
    {
     "name": "stdout",
     "output_type": "stream",
     "text": [
      "'hello world'\n",
      "\n",
      "\n",
      "\n",
      "\n",
      "table \t td \t tr\n"
     ]
    }
   ],
   "source": [
    "print('\\'hello world\\'')\n",
    "# print('\\b')\n",
    "# print('\\000')\n",
    "# print('spaceback')\n",
    "# print(\"\\v \\v\")\n",
    "print(\"\\012\")  #换行\n",
    "print(\"\\x0a\")\n",
    "print(\"table \\t td \\t tr\")"
   ]
  },
  {
   "cell_type": "code",
   "execution_count": 43,
   "metadata": {},
   "outputs": [
    {
     "name": "stdout",
     "output_type": "stream",
     "text": [
      "H 在Hello内\n"
     ]
    }
   ],
   "source": [
    "a = \"Hello\"\n",
    "if 'H' in a:\n",
    "    print(\"H 在\"+a+\"内\")\n",
    "    "
   ]
  },
  {
   "cell_type": "markdown",
   "metadata": {},
   "source": [
    "#### 字符串格式化"
   ]
  },
  {
   "cell_type": "code",
   "execution_count": 16,
   "metadata": {
    "collapsed": true
   },
   "outputs": [
    {
     "name": "stdout",
     "output_type": "stream",
     "text": [
      "我叫 Tom,今年 10 岁\n",
      "0.33\n",
      "0.3333\n",
      "1 span\n",
      "\n",
      "    Greeting....\n",
      "    Hello Tom !\n",
      "    Your age squared is 18    \n",
      "\n"
     ]
    }
   ],
   "source": [
    "print(\"我叫 %s,今年 %d 岁\" % ('Tom',10))\n",
    "print(\"%.2f\" % (1/3))\n",
    "# 定义宽度为4，然后显示\n",
    "print(\"%.*f\" % (4,1/3))\n",
    "# 字典映射\n",
    "print(\"%(n)d %(x)s\" % {\"n\":1,\"x\":\"span\"})\n",
    "\n",
    "reply = \"\"\"\n",
    "    Greeting....\n",
    "    Hello %(name)s !\n",
    "    Your age squared is %(age)s    \n",
    "\"\"\"\n",
    "values = {\"name\":\"Tom\",\"age\":18}\n",
    "print(reply % values)"
   ]
  },
  {
   "cell_type": "markdown",
   "metadata": {},
   "source": [
    "#### 字符串格式化调用方法 format"
   ]
  },
  {
   "cell_type": "code",
   "execution_count": 17,
   "metadata": {},
   "outputs": [
    {
     "name": "stdout",
     "output_type": "stream",
     "text": [
      "Tom,18\n",
      "Tom,18\n",
      "Tom,18\n",
      "name:Tom;favorate:basketball;age:18\n",
      "name:Tom;favorate:basketball;age:18\n"
     ]
    }
   ],
   "source": [
    "print(\"{0},{1}\".format('Tom',18))\n",
    "print(\"{name},{age}\".format(name=\"Tom\",age=18))\n",
    "string = [\"Tom\",18]\n",
    "print(\"{0[0]},{0[1]}\".format(string))\n",
    "\n",
    "table = {\n",
    "    \"name\":\"Tom\",\n",
    "    \"age\":18,\n",
    "    \"favorate\":\"basketball\"\n",
    "}\n",
    "# 通过[]访问键值\n",
    "print(\"name:{0[name]:s};favorate:{0[favorate]:s};age:{0[age]:d}\".format(table))\n",
    "# 下面这种方法也可行。\n",
    "print(\"name:{name:s};favorate:{favorate:s};age:{age:d}\".format(**table))\n"
   ]
  },
  {
   "cell_type": "markdown",
   "metadata": {},
   "source": [
    "#### 填充与对齐"
   ]
  },
  {
   "cell_type": "code",
   "execution_count": 29,
   "metadata": {},
   "outputs": [
    {
     "name": "stdout",
     "output_type": "stream",
     "text": [
      "1992     \n",
      "000001992\n",
      "001992000\n"
     ]
    }
   ],
   "source": [
    "# :后接填充字符\n",
    "print('{:<9}'.format(1992))  #左对齐\n",
    "print('{:0>9}'.format(1992))   #右对齐\n",
    "print('{:0^9}'.format(1992))  #居中\n",
    "\n",
    "# 可以使用rjust()  ljust()  center()  zfill()等方法来填充对其字符串"
   ]
  },
  {
   "cell_type": "markdown",
   "metadata": {},
   "source": [
    "#### 精度以及其他类型"
   ]
  },
  {
   "cell_type": "code",
   "execution_count": 5,
   "metadata": {},
   "outputs": [
    {
     "name": "stdout",
     "output_type": "stream",
     "text": [
      "3.14\n",
      "name      -->Tom                 \n",
      "age       -->18                  \n",
      "favorate  -->basketball          \n",
      "1001\n",
      "9\n",
      "11\n",
      "15\n",
      "1,234,567,890\n"
     ]
    }
   ],
   "source": [
    "print('{:.2f}'.format(3.1415926))\n",
    "\n",
    "# 确定宽度\n",
    "table = {\n",
    "    \"name\":\"Tom\",\n",
    "    \"age\":18,\n",
    "    \"favorate\":\"basketball\"\n",
    "}\n",
    "# items()返回可以遍历的元组数组\n",
    "for name,value in table.items():\n",
    "    print('{0:10}-->{1}'.format(name,str(value).ljust(20)))\n",
    "\n",
    "# 二进制\n",
    "print('{:b}'.format(9))\n",
    "# 十进制\n",
    "print('{:d}'.format(9))\n",
    "# 8进制\n",
    "print('{:o}'.format(9))\n",
    "# 16进制\n",
    "print('{:x}'.format(21))\n",
    "\n",
    "# 金额的千位分隔符\n",
    "print('{:,}'.format(1234567890))\n",
    "\n",
    "# !a  !s  !r在格式化某个值之前对其进行转化，怎么使用？？\n"
   ]
  },
  {
   "cell_type": "markdown",
   "metadata": {},
   "source": [
    "在python3中所有字符都是Unicode字符"
   ]
  },
  {
   "cell_type": "markdown",
   "metadata": {},
   "source": [
    "#### 字符串内建函数"
   ]
  },
  {
   "cell_type": "code",
   "execution_count": 10,
   "metadata": {},
   "outputs": [
    {
     "name": "stdout",
     "output_type": "stream",
     "text": [
      "Love you!\n",
      "*****love you!******\n",
      "2\n",
      "b'\\xe4\\xb8\\xad\\xe5\\x9b\\xbd'\n",
      "中国\n",
      "True\n",
      "this is\tstring example\n",
      "this is string example\n",
      "8\n",
      "没有sss\n",
      "True\n",
      "True\n"
     ]
    }
   ],
   "source": [
    "str0 = \"love you!\"\n",
    "print(str0.capitalize())\n",
    "# 20个字符\n",
    "print(str0.center(20,\"*\"))\n",
    "# 字符串中字符出现的次数\n",
    "print(str0.count(\"o\",0,10))\n",
    "\n",
    "# decode以指定的编码格式解码bytes对象，默认为utf-8\n",
    "str1 = \"中国\"\n",
    "# encode以指定的编码格式编码字符串，得到bytes对象\n",
    "print(str1.encode(\"UTF-8\"))\n",
    "print(str1.encode(\"UTF-8\").decode(\"UTF-8\"))\n",
    "\n",
    "print(str0.endswith(\"!\"))\n",
    "\n",
    "# expandtabs()将字符串中的tab键转换成空格\n",
    "str2 = \"this is\\tstring example\"\n",
    "print(str2)\n",
    "print(str2.expandtabs(1))\n",
    "\n",
    "print(str2.find(\"string\",0,20))\n",
    "# print(str2.index(\"sss\",0,10))\n",
    "try:\n",
    "    index =  str2.index(\"sss\",0,10)\n",
    "except ValueError:\n",
    "    print(\"没有sss\")\n",
    "\n",
    "# 如果字符串中至少有一个字符，并且都是数字或者字母才会返回Ture\n",
    "print(\"asdfaqw12\".isalnum())\n",
    "\n",
    "# 全是字母才行\n",
    "print(\"a\".isalpha())\n",
    "\n"
   ]
  }
 ],
 "metadata": {
  "kernelspec": {
   "display_name": "Python 3",
   "language": "python",
   "name": "python3"
  },
  "language_info": {
   "codemirror_mode": {
    "name": "ipython",
    "version": 3
   },
   "file_extension": ".py",
   "mimetype": "text/x-python",
   "name": "python",
   "nbconvert_exporter": "python",
   "pygments_lexer": "ipython3",
   "version": "3.6.4"
  }
 },
 "nbformat": 4,
 "nbformat_minor": 2
}
