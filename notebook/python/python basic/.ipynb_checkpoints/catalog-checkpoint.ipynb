{
 "cells": [
  {
   "cell_type": "markdown",
   "metadata": {},
   "source": [
    "#### python3文件目录方法"
   ]
  },
  {
   "cell_type": "markdown",
   "metadata": {},
   "source": [
    "很多方法在window上不能实现，需要在unix或者linux机子上。"
   ]
  },
  {
   "cell_type": "markdown",
   "metadata": {},
   "source": [
    "access()测试当前访问的路径的读写状态，是否存在等"
   ]
  },
  {
   "cell_type": "code",
   "execution_count": 3,
   "metadata": {},
   "outputs": [
    {
     "name": "stdout",
     "output_type": "stream",
     "text": [
      "path路径所指内容存在? True\n",
      "path路径所指内容可读? True\n",
      "path路径所指内容可写? True\n",
      "path路径所指内容可执行? True\n"
     ]
    }
   ],
   "source": [
    "import os\n",
    "\n",
    "ret = os.access(\"./testfile/foo.txt\",os.F_OK)\n",
    "print(\"path路径所指内容存在?\",ret)\n",
    "\n",
    "ret = os.access(\"./testfile/foo.txt\",os.R_OK)\n",
    "print(\"path路径所指内容可读?\",ret)\n",
    "\n",
    "ret = os.access(\"./testfile/foo.txt\",os.W_OK)\n",
    "print(\"path路径所指内容可写?\",ret)\n",
    "\n",
    "ret = os.access(\"./testfile/foo.txt\",os.X_OK)\n",
    "print(\"path路径所指内容可执行?\",ret)"
   ]
  },
  {
   "cell_type": "markdown",
   "metadata": {},
   "source": [
    "chdir()用于切换当前工作目录到指定路径"
   ]
  },
  {
   "cell_type": "code",
   "execution_count": 22,
   "metadata": {},
   "outputs": [
    {
     "name": "stdout",
     "output_type": "stream",
     "text": [
      "当前工作目录为 C:\\others\\GITHUB\\notebook\\python\\python basic\n",
      "修改之后的工作目录为 C:\\others\\GITHUB\\notebook\\python\\python basic\\testfile\n"
     ]
    }
   ],
   "source": [
    "import os\n",
    "\n",
    "# 使用反斜线的时候需要使用双斜线，来进行转义\n",
    "# path = \"C:\\\\others\\\\GITHUB\\\\notebook\\\\python\\\\python basic\"\n",
    "path = \"C:/others/GITHUB/notebook/python/python basic\"\n",
    "\n",
    "os.chdir(path)\n",
    "\n",
    "# 获取当前工作目录\n",
    "current_catalog = os.getcwd()\n",
    "print(\"当前工作目录为 {0}\".format(current_catalog))\n",
    "\n",
    "# 切换工作目录\n",
    "change_catalog = current_catalog+\"\\\\\"+\"testfile\"\n",
    "# print(change_catalog)\n",
    "\n",
    "os.chdir(change_catalog)\n",
    "current_catalog = os.getcwd()\n",
    "print(\"修改之后的工作目录为 {}\".format(current_catalog))"
   ]
  }
 ],
 "metadata": {
  "kernelspec": {
   "display_name": "Python 3",
   "language": "python",
   "name": "python3"
  },
  "language_info": {
   "codemirror_mode": {
    "name": "ipython",
    "version": 3
   },
   "file_extension": ".py",
   "mimetype": "text/x-python",
   "name": "python",
   "nbconvert_exporter": "python",
   "pygments_lexer": "ipython3",
   "version": "3.6.4"
  }
 },
 "nbformat": 4,
 "nbformat_minor": 2
}
