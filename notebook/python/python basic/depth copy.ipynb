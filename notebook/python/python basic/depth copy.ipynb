{
 "cells": [
  {
   "cell_type": "markdown",
   "metadata": {},
   "source": [
    "### 深浅拷贝"
   ]
  },
  {
   "cell_type": "code",
   "execution_count": 3,
   "metadata": {},
   "outputs": [
    {
     "name": "stdout",
     "output_type": "stream",
     "text": [
      "[1, 'Alex', 'Tom']\n",
      "s= [1, 'Mary', 'Tom'] s1= [1, 'Mary', 'Tom']\n",
      "s的地址值  70759048  s1的地址值是 70759048\n"
     ]
    }
   ],
   "source": [
    "s = [1,'Alex','Tom']\n",
    "\n",
    "# 此时s s1指向同一个位置\n",
    "s1 = s\n",
    "print(s1)\n",
    "s[1] = 'Mary'\n",
    "print(\"s=\",s,\"s1=\",s1)\n",
    "\n",
    "# 查看s s1的地址值\n",
    "print(\"s的地址值 \",id(s),\" s1的地址值是\",id(s1))\n",
    "\n",
    "# 可以发现地址值是一样的，这种是将引用进行拷贝赋值给另一个变量的方式，我们称为浅拷贝。"
   ]
  },
  {
   "cell_type": "markdown",
   "metadata": {},
   "source": [
    "#### 深拷贝  copy模块中间的deepcopy方法"
   ]
  },
  {
   "cell_type": "code",
   "execution_count": 8,
   "metadata": {},
   "outputs": [
    {
     "name": "stdout",
     "output_type": "stream",
     "text": [
      "a = [1, 2, 3]\n",
      "b = [1, 2, 3]\n",
      "a = [1, 2, 3, 4]\n",
      "b = [1, 2, 3]\n",
      "a = [1, 2, 3, 4]\n",
      "b = [1, 2, 3, 5]\n",
      "a的地址值  92051296  b的地址值是 72208712\n"
     ]
    }
   ],
   "source": [
    "import copy\n",
    "a = [1,2,3]\n",
    "b = copy.deepcopy(a)\n",
    "\n",
    "print(\"a = %s\" % a)\n",
    "print(\"b = %s\" % b)\n",
    "\n",
    "a.append(4)\n",
    "print(\"a = %s\" % a)\n",
    "print(\"b = %s\" % b)\n",
    "\n",
    "b.append(5)\n",
    "print(\"a = %s\" % a)\n",
    "print(\"b = %s\" % b)\n",
    "\n",
    "print(\"a的地址值 \",id(a),\" b的地址值是\",id(b))\n",
    "\n",
    "# 地址不一样。深拷贝"
   ]
  },
  {
   "cell_type": "markdown",
   "metadata": {},
   "source": [
    "#### copy模块\n"
   ]
  },
  {
   "cell_type": "code",
   "execution_count": 14,
   "metadata": {},
   "outputs": [
    {
     "name": "stdout",
     "output_type": "stream",
     "text": [
      "c=[[1, 2, 3], [4, 5, 6]],d=[[1, 2, 3], [4, 5, 6]]\n",
      "c=[[1, 2, 3], [4, 5, 6], 4],d=[[1, 2, 3], [4, 5, 6]]\n",
      "c=[[1, 2, 3, 5], [4, 5, 6], 4],d=[[1, 2, 3], [4, 5, 6]]\n",
      "c的地址值  70758928  d的地址值是 91461192\n",
      "c[0]的地址值  72208832  d[0]的地址值是 91462792\n"
     ]
    }
   ],
   "source": [
    "# 如果存在递归对象,会递归进行深拷贝\n",
    "import copy\n",
    "\n",
    "a = [1,2,3]\n",
    "b = [4,5,6]\n",
    "\n",
    "c = [a,b]\n",
    "d = copy.deepcopy(c)\n",
    "\n",
    "print(\"c=%s,d=%s\"%(c,d))\n",
    "\n",
    "c.append(4)\n",
    "print(\"c=%s,d=%s\"%(c,d))\n",
    "\n",
    "c[0].append(5)\n",
    "print(\"c=%s,d=%s\"%(c,d))\n",
    "\n",
    "print(\"c的地址值 \",id(c),\" d的地址值是\",id(d))\n",
    "print(\"c[0]的地址值 \",id(c[0]),\" d[0]的地址值是\",id(d[0]))\n",
    "\n",
    "# 可以发现，存在嵌套对象，嵌套对象会进行递归的深拷贝。"
   ]
  },
  {
   "cell_type": "code",
   "execution_count": 1,
   "metadata": {},
   "outputs": [
    {
     "name": "stdout",
     "output_type": "stream",
     "text": [
      "c=[[1, 2, 3], [4, 5, 6]],d=[[1, 2, 3], [4, 5, 6]]\n",
      "c=[[1, 2, 3], [4, 5, 6], 4],d=[[1, 2, 3], [4, 5, 6]]\n",
      "c=[[1, 2, 3, 5], [4, 5, 6], 4],d=[[1, 2, 3, 5], [4, 5, 6]]\n",
      "c的地址值  102856904  d的地址值是 102858344\n",
      "c[0]的地址值  102884216  d[0]的地址值是 102884216\n"
     ]
    }
   ],
   "source": [
    "# copy()方法对最外层进行深拷贝，而如果有多层，第二层之后就是浅拷贝\n",
    "# 和直接使用copy方法一致\n",
    "\n",
    "import copy\n",
    "\n",
    "a = [1,2,3]\n",
    "b = [4,5,6]\n",
    "\n",
    "c = [a,b]\n",
    "# d = copy.copy(c)\n",
    "d = c.copy()\n",
    "\n",
    "print(\"c=%s,d=%s\"%(c,d))\n",
    "\n",
    "c.append(4)\n",
    "print(\"c=%s,d=%s\"%(c,d))\n",
    "\n",
    "c[0].append(5)\n",
    "print(\"c=%s,d=%s\"%(c,d))\n",
    "\n",
    "print(\"c的地址值 \",id(c),\" d的地址值是\",id(d))\n",
    "print(\"c[0]的地址值 \",id(c[0]),\" d[0]的地址值是\",id(d[0]))\n",
    "\n",
    "# 可以看到c[0]  d[0]地址是一样的，也就是进行的是浅拷贝"
   ]
  },
  {
   "cell_type": "code",
   "execution_count": 18,
   "metadata": {},
   "outputs": [
    {
     "name": "stdout",
     "output_type": "stream",
     "text": [
      "c=([1, 2, 3], [4, 5, 6]),d=([1, 2, 3], [4, 5, 6])\n",
      "c的地址值  72380208  d的地址值是 72380208\n",
      "c[0]的地址值  91491024  d[0]的地址值是 91491024\n"
     ]
    }
   ],
   "source": [
    "# 对于copy方法存在特殊情况，比如元组类型\n",
    "\n",
    "import copy\n",
    "\n",
    "a = [1,2,3]\n",
    "b = [4,5,6]\n",
    "\n",
    "# c是元组类型\n",
    "c = (a,b)\n",
    "d = copy.copy(c)\n",
    "\n",
    "print(\"c=%s,d=%s\"%(c,d))\n",
    "\n",
    "print(\"c的地址值 \",id(c),\" d的地址值是\",id(d))\n",
    "print(\"c[0]的地址值 \",id(c[0]),\" d[0]的地址值是\",id(d[0]))\n",
    "\n",
    "# 可以看到，哪怕是最外层也是浅拷贝\n",
    "# 这里是因为copy方法内部自有判断，如果最外层的拷贝类型是不可变类型，则进行浅拷贝，反之则进行深拷贝。"
   ]
  }
 ],
 "metadata": {
  "kernelspec": {
   "display_name": "Python 3",
   "language": "python",
   "name": "python3"
  },
  "language_info": {
   "codemirror_mode": {
    "name": "ipython",
    "version": 3
   },
   "file_extension": ".py",
   "mimetype": "text/x-python",
   "name": "python",
   "nbconvert_exporter": "python",
   "pygments_lexer": "ipython3",
   "version": "3.6.4"
  }
 },
 "nbformat": 4,
 "nbformat_minor": 2
}
