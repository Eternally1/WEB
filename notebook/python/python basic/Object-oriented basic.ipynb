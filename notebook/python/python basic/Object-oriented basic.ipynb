{
 "cells": [
  {
   "cell_type": "markdown",
   "metadata": {},
   "source": [
    "### 类对象"
   ]
  },
  {
   "cell_type": "markdown",
   "metadata": {},
   "source": [
    "- self代表类的实例\n",
    "- __class__指向实例对应的类\n",
    "- 在类中定义的函数只有一点不同，就是第一个参数永远是实例变量self，并且，调用时，不用传递改参数。"
   ]
  },
  {
   "cell_type": "code",
   "execution_count": 4,
   "metadata": {},
   "outputs": [
    {
     "name": "stdout",
     "output_type": "stream",
     "text": [
      "123 hello world\n"
     ]
    }
   ],
   "source": [
    "#类中方法定义时self有什么用处 \n",
    "\n",
    "class MyClass:\n",
    "    i = 123\n",
    "    def hello(self):\n",
    "        return(\"hello world\")\n",
    "x = MyClass()\n",
    "\n",
    "print(x.i,x.hello())\n"
   ]
  },
  {
   "cell_type": "code",
   "execution_count": 7,
   "metadata": {},
   "outputs": [
    {
     "name": "stdout",
     "output_type": "stream",
     "text": [
      "1 2\n"
     ]
    }
   ],
   "source": [
    "#类中方法定义时self有什么用处 ,self代表类的实例\n",
    "\n",
    "class MyClass:\n",
    "       def __init__(self,a,b):\n",
    "            self.a = a;\n",
    "            self.b = b            \n",
    "x = MyClass(1,2)\n",
    "\n",
    "print(x.a,x.b)\n"
   ]
  },
  {
   "cell_type": "code",
   "execution_count": 9,
   "metadata": {},
   "outputs": [
    {
     "name": "stdout",
     "output_type": "stream",
     "text": [
      "<__main__.Test object at 0x0076DF30>\n",
      "<class '__main__.Test'>\n"
     ]
    }
   ],
   "source": [
    "#  __class__指向实例对应的类\n",
    "class Test:\n",
    "    def ptr(self):\n",
    "        print(self)\n",
    "        print(self.__class__)\n",
    "t = Test()\n",
    "t.ptr()"
   ]
  },
  {
   "cell_type": "markdown",
   "metadata": {},
   "source": [
    "#### 访问限制"
   ]
  },
  {
   "cell_type": "markdown",
   "metadata": {},
   "source": [
    "私有属性的定义以及get  set方法使用"
   ]
  },
  {
   "cell_type": "code",
   "execution_count": 9,
   "metadata": {},
   "outputs": [
    {
     "name": "stdout",
     "output_type": "stream",
     "text": [
      "Tom 18 140\n",
      "Tom-18岁-140斤\n",
      "150\n",
      "150\n"
     ]
    }
   ],
   "source": [
    "# 私有属性的定义\n",
    "class MyClass:\n",
    "    def __init__(self,name,age,weight):\n",
    "        self.name = name;\n",
    "        self.age = age\n",
    "        self.__weight = weight\n",
    "    \n",
    "    def speak(self):\n",
    "        print(\"%s-%d岁-%d斤\"%(self.name,self.age,self.__weight))\n",
    "        \n",
    "    def get_weight(self):\n",
    "        return self.__weight\n",
    "    \n",
    "    def set_weight(self,weight):\n",
    "        self.__weight = weight\n",
    "    \n",
    "x = MyClass(\"Tom\",18,140)\n",
    "# 访问私有属性，访问私有方法也是这样做\n",
    "print(x.name,x.age,x._MyClass__weight)\n",
    "x.speak()\n",
    "x.set_weight(150)\n",
    "print(x.get_weight())\n",
    "\n",
    "# 下面一行知识给x增加了一个__weight变量，原先的__weight变量已经被python解释器自动改成了_MyClass__weight\n",
    "x.__weight = 160;\n",
    "print(x.get_weight())"
   ]
  },
  {
   "cell_type": "raw",
   "metadata": {},
   "source": [
    "关于一些特殊变量的说明  \n",
    "1、在Python中，变量名类似__xxx__的，也就是以双下划线开头，并且以双下划线结尾的，是特殊变量，特殊变量是可以直接访问的，不是private变量，所以，不能用__name__、__score__这样的变量名。  \n",
    "2、有些时候，你会看到以一个下划线开头的实例变量名，比如_name，_xxx，这样的实例变量外部是可以访问的，但是，按照约定俗成的规定，当你看到这样的变量时，意思就是，“虽然我可以被访问，但是，请把我视为私有变量，不要随意访问”。"
   ]
  },
  {
   "cell_type": "markdown",
   "metadata": {},
   "source": [
    "#### 继承和多态"
   ]
  },
  {
   "cell_type": "markdown",
   "metadata": {},
   "source": [
    "> 当子类和父类都存在相同的run()方法时，我们说，子类的run()覆盖了父类的run()，在代码运行的时候，总是会调用子类的run()。这样，我们就获得了继承的另一个好处：多态。"
   ]
  },
  {
   "cell_type": "code",
   "execution_count": 16,
   "metadata": {},
   "outputs": [
    {
     "name": "stdout",
     "output_type": "stream",
     "text": [
      "Dog is running...\n",
      "Cat is running...\n",
      "True\n",
      "True\n",
      "Dog is running...\n",
      "Cat is running...\n",
      "Animal is running...\n"
     ]
    }
   ],
   "source": [
    "class Animal(object):\n",
    "    def run(self):\n",
    "        print(\"Animal is running...\")\n",
    "        \n",
    "class Dog(Animal):\n",
    "    def run(self):\n",
    "        print(\"Dog is running...\")\n",
    "        \n",
    "class Cat(Animal):\n",
    "    def run(self):\n",
    "        print(\"Cat is running...\")\n",
    "        \n",
    "# 参数是Animal类型的变量  \n",
    "def run(animal):\n",
    "    animal.run()\n",
    "\n",
    "dog = Dog()\n",
    "dog.run()\n",
    "\n",
    "cat = Cat()\n",
    "cat.run()\n",
    "\n",
    "print(isinstance(dog,Dog))\n",
    "print(isinstance(dog,Animal))\n",
    "\n",
    "# 多态的好处\n",
    "run(dog)\n",
    "run(cat)\n",
    "run(Animal())"
   ]
  },
  {
   "cell_type": "markdown",
   "metadata": {},
   "source": [
    "多态的好处  \n",
    "当我们需要传入Dog、Cat、Tortoise……时，我们只需要接收Animal类型就可以了，**因为Dog、Cat、Tortoise……都是Animal类型**，然后，按照Animal类型进行操作即可。由于Animal类型有run()方法，因此，传入的任意类型，只要是Animal类或者子类，就会自动调用实际类型的run()方法，这就是多态的意思   \n"
   ]
  },
  {
   "cell_type": "markdown",
   "metadata": {},
   "source": [
    "#### 获取继承的父类"
   ]
  },
  {
   "cell_type": "code",
   "execution_count": 1,
   "metadata": {},
   "outputs": [
    {
     "name": "stdout",
     "output_type": "stream",
     "text": [
      "(<class '__main__.Animal'>,)\n"
     ]
    }
   ],
   "source": [
    "class Animal(object):\n",
    "    def run(self):\n",
    "        print(\"Animal is running...\")\n",
    "        \n",
    "class Dog(Animal):\n",
    "    def run(self):\n",
    "        print(\"Dog is running...\")\n",
    "        \n",
    "class Cat(Animal):\n",
    "    def run(self):\n",
    "        print(\"Cat is running...\")\n",
    "\n",
    "print(Dog.__bases__)"
   ]
  },
  {
   "cell_type": "markdown",
   "metadata": {},
   "source": [
    "#### super()"
   ]
  },
  {
   "cell_type": "code",
   "execution_count": 8,
   "metadata": {},
   "outputs": [
    {
     "name": "stdout",
     "output_type": "stream",
     "text": [
      "Dog is running...\n",
      "Animal is running...\n",
      "<class 'super'>\n"
     ]
    }
   ],
   "source": [
    "class Animal(object):\n",
    "    def __init__(self,name):\n",
    "        self.name = name\n",
    "    \n",
    "    def run(self):\n",
    "        print(\"Animal is running...\")\n",
    "        \n",
    "class Dog(Animal):\n",
    "    def run(self):\n",
    "        if self.name == \"admin\":\n",
    "            print(\"Dog is running...\")\n",
    "        super().run()\n",
    "\n",
    "d = Dog(\"admin\")\n",
    "d.run()\n"
   ]
  },
  {
   "cell_type": "markdown",
   "metadata": {},
   "source": [
    "#### 获取对象信息"
   ]
  },
  {
   "cell_type": "markdown",
   "metadata": {},
   "source": [
    "type()判断对象类型    types模块"
   ]
  },
  {
   "cell_type": "code",
   "execution_count": 25,
   "metadata": {},
   "outputs": [
    {
     "name": "stdout",
     "output_type": "stream",
     "text": [
      "<class 'int'>\n",
      "<class 'str'>\n",
      "<class 'NoneType'>\n",
      "<class 'builtin_function_or_method'>\n",
      "<class '__main__.Animal'>\n",
      "True\n",
      "True\n",
      "<class 'function'>\n",
      "True\n",
      "True\n"
     ]
    }
   ],
   "source": [
    "print(type(123))\n",
    "print(type(\"123\"))\n",
    "print(type(None))\n",
    "print(type(abs))\n",
    "\n",
    "class Animal(object):\n",
    "    def run(self):\n",
    "        print(\"Animal is running...\")\n",
    "a = Animal()\n",
    "print(type(a))\n",
    "\n",
    "# int str可以直接写。\n",
    "print(type(123) == int)\n",
    "print(type(\"123\") == str)\n",
    "\n",
    "# 判断一个对象是否是函数\n",
    "def fn():\n",
    "    print(\".....\")\n",
    "\n",
    "import types\n",
    "print(type(fn))\n",
    "print(type(fn) == types.FunctionType)\n",
    "print(type(abs) == types.BuiltinFunctionType)"
   ]
  },
  {
   "cell_type": "markdown",
   "metadata": {},
   "source": [
    "isinstance() 还可以判断一个变量是某些类型中的一种"
   ]
  },
  {
   "cell_type": "code",
   "execution_count": 28,
   "metadata": {},
   "outputs": [
    {
     "name": "stdout",
     "output_type": "stream",
     "text": [
      "True\n",
      "True\n"
     ]
    }
   ],
   "source": [
    "print(isinstance([1,2,3],(list,tuple)))\n",
    "print(isinstance((1,2,3),(list,tuple)))"
   ]
  },
  {
   "cell_type": "markdown",
   "metadata": {},
   "source": [
    "dir()  获取一个对象的所有属性和方法。"
   ]
  },
  {
   "cell_type": "code",
   "execution_count": 31,
   "metadata": {},
   "outputs": [
    {
     "name": "stdout",
     "output_type": "stream",
     "text": [
      "['__add__', '__class__', '__contains__', '__delattr__', '__dir__', '__doc__', '__eq__', '__format__', '__ge__', '__getattribute__', '__getitem__', '__getnewargs__', '__gt__', '__hash__', '__init__', '__init_subclass__', '__iter__', '__le__', '__len__', '__lt__', '__mod__', '__mul__', '__ne__', '__new__', '__reduce__', '__reduce_ex__', '__repr__', '__rmod__', '__rmul__', '__setattr__', '__sizeof__', '__str__', '__subclasshook__', 'capitalize', 'casefold', 'center', 'count', 'encode', 'endswith', 'expandtabs', 'find', 'format', 'format_map', 'index', 'isalnum', 'isalpha', 'isdecimal', 'isdigit', 'isidentifier', 'islower', 'isnumeric', 'isprintable', 'isspace', 'istitle', 'isupper', 'join', 'ljust', 'lower', 'lstrip', 'maketrans', 'partition', 'replace', 'rfind', 'rindex', 'rjust', 'rpartition', 'rsplit', 'rstrip', 'split', 'splitlines', 'startswith', 'strip', 'swapcase', 'title', 'translate', 'upper', 'zfill']\n",
      "3\n",
      "3\n"
     ]
    }
   ],
   "source": [
    "print(dir(\"ABC\"))\n",
    "\n",
    "print(len(\"ABC\"))\n",
    "\n",
    "print(\"ABC\".__len__())"
   ]
  },
  {
   "cell_type": "raw",
   "metadata": {},
   "source": [
    "类似__xxx__的属性和方法在Python中都是有特殊用途的，比如__len__方法返回长度。在Python中，如果你调用len()函数试图获取一个对象的长度，实际上，在len()函数内部，它自动去调用该对象的__len__()方法"
   ]
  },
  {
   "cell_type": "code",
   "execution_count": 35,
   "metadata": {},
   "outputs": [
    {
     "name": "stdout",
     "output_type": "stream",
     "text": [
      "100\n"
     ]
    }
   ],
   "source": [
    "class MyDog(object):\n",
    "    def __len__(self):\n",
    "        return 100\n",
    "dog = MyDog()\n",
    "print(len(dog))\n",
    "\n",
    "# len()方法会调用dog对象的__len__()方法。"
   ]
  },
  {
   "cell_type": "markdown",
   "metadata": {},
   "source": [
    "getattr()  setattr()  hasattr()"
   ]
  },
  {
   "cell_type": "code",
   "execution_count": 48,
   "metadata": {},
   "outputs": [
    {
     "name": "stdout",
     "output_type": "stream",
     "text": [
      "True\n",
      "False\n",
      "True\n",
      "6\n",
      "9\n",
      "不存在\n",
      "True\n",
      "...\n"
     ]
    }
   ],
   "source": [
    "class MyObject(object):\n",
    "    def __init__(self):\n",
    "        self.x = 6\n",
    "    def power(self):\n",
    "        return \"...\"\n",
    "obj = MyObject()\n",
    "\n",
    "print(hasattr(obj,'x'))\n",
    "print(hasattr(obj,'y'))\n",
    "\n",
    "setattr(obj,\"y\",9)\n",
    "print(hasattr(obj,'y'))\n",
    "\n",
    "print(getattr(obj,'x'))\n",
    "print(getattr(obj,'y'))\n",
    "# 如果不存在这个属性，会报错\n",
    "# print(getattr(obj,'z'))\n",
    "print(getattr(obj,'z','不存在'))\n",
    "\n",
    "# 对象的方法也可以通过这几个方法获得\n",
    "print(hasattr(obj,'power'))\n",
    "fn = getattr(obj,'power')\n",
    "print(fn())"
   ]
  },
  {
   "cell_type": "markdown",
   "metadata": {},
   "source": [
    "#### 实例属性和类属性"
   ]
  },
  {
   "cell_type": "markdown",
   "metadata": {},
   "source": [
    "由于Python是动态语言，根据类创建的实例可以任意绑定属性。  \n",
    "给实例绑定属性的方法是通过实例变量，或者通过**self**变量\n",
    "\n",
    "age是类属性，归MyObject类所有。\n",
    "- 实例属性属于各个实例所有，互不干扰\n",
    "- 类属性属于类所有，所有实例共享。"
   ]
  },
  {
   "cell_type": "code",
   "execution_count": 55,
   "metadata": {},
   "outputs": [
    {
     "name": "stdout",
     "output_type": "stream",
     "text": [
      "18\n",
      "18\n",
      "20\n",
      "18\n",
      "18\n"
     ]
    }
   ],
   "source": [
    "class MyObject(object):\n",
    "    age = 18\n",
    "    def __init__(self,name):\n",
    "        self.name = name\n",
    "obj = MyObject('Qiu')\n",
    "print(MyObject.age)\n",
    "print(obj.age)  #因为实例没有age属性，所以会继续查找class的age属性\n",
    "\n",
    "obj.age = 20\n",
    "print(obj.age)   #由于实例属性优先级比类属性高，所以会屏蔽掉类的age属性\n",
    "print(MyObject.age)   #类属性并没有消失\n",
    "\n",
    "del obj.age   #删除之后，在实例属性里面找不到就会到类属性中去找。\n",
    "print(obj.age)"
   ]
  }
 ],
 "metadata": {
  "kernelspec": {
   "display_name": "Python 3",
   "language": "python",
   "name": "python3"
  },
  "language_info": {
   "codemirror_mode": {
    "name": "ipython",
    "version": 3
   },
   "file_extension": ".py",
   "mimetype": "text/x-python",
   "name": "python",
   "nbconvert_exporter": "python",
   "pygments_lexer": "ipython3",
   "version": "3.6.4"
  }
 },
 "nbformat": 4,
 "nbformat_minor": 2
}
