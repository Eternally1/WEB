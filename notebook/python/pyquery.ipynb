{
 "cells": [
  {
   "cell_type": "markdown",
   "metadata": {},
   "source": [
    "### pyquery"
   ]
  },
  {
   "cell_type": "code",
   "execution_count": 2,
   "metadata": {
    "collapsed": true
   },
   "outputs": [
    {
     "name": "stdout",
     "output_type": "stream",
     "text": [
      "<li class=\"item-0\">first item</li>\n",
      "\t\t<li class=\"item-1\"><a href=\"link2.html\">second item</a></li>\n",
      "\t\t<li class=\"item-0 active\">\n",
      "\t\t\t<a href=\"link3.html\">\n",
      "\t\t\t\t<span class=\"bold\">third item</span>\n",
      "\t\t\t</a>\n",
      "\t\t</li>\n",
      "\t\t<li class=\"item-1 active\"><a href=\"link4.html\">four item</a></li>\n",
      "\t\t<li class=\"item-0\"><a href=\"link5.html\">fifth item</a></li>\n",
      "\t\n"
     ]
    }
   ],
   "source": [
    "html_doc = \"\"\"\n",
    "<div>\n",
    "\t<ul>\n",
    "\t\t<li class=\"item-0\">first item</li>\n",
    "\t\t<li class=\"item-1\"><a href=\"link2.html\">second item</a></li>\n",
    "\t\t<li class=\"item-0 active\">\n",
    "\t\t\t<a href=\"link3.html\">\n",
    "\t\t\t\t<span class=\"bold\">third item</span>\n",
    "\t\t\t</a>\n",
    "\t\t</li>\n",
    "\t\t<li class=\"item-1 active\"><a href=\"link4.html\">four item</a></li>\n",
    "\t\t<li class=\"item-0\"><a href=\"link5.html\">fifth item</a></li>\n",
    "\t</ul>\n",
    "</div>\n",
    "\"\"\"\n",
    "from pyquery import PyQuery as pq\n",
    "doc = pq(html_doc)\n",
    "print(doc('li'))"
   ]
  },
  {
   "cell_type": "markdown",
   "metadata": {},
   "source": [
    "#### url初始化"
   ]
  },
  {
   "cell_type": "code",
   "execution_count": 7,
   "metadata": {
    "collapsed": true
   },
   "outputs": [
    {
     "name": "stdout",
     "output_type": "stream",
     "text": [
      "<head><meta http-equiv=\"content-type\" content=\"text/html;charset=utf-8\"/><meta http-equiv=\"X-UA-Compatible\" content=\"IE=Edge\"/><meta content=\"always\" name=\"referrer\"/><link rel=\"stylesheet\" type=\"text/css\" href=\"http://s1.bdstatic.com/r/www/cache/bdorz/baidu.min.css\"/><title>ç¾åº¦ä¸ä¸ï¼ä½ å°±ç¥é</title></head> \n"
     ]
    }
   ],
   "source": [
    "from pyquery import PyQuery as pq\n",
    "doc = pq(url=\"http://www.baidu.com\")\n",
    "print(doc('head'))"
   ]
  },
  {
   "cell_type": "markdown",
   "metadata": {},
   "source": [
    "#### 文件初始化"
   ]
  },
  {
   "cell_type": "code",
   "execution_count": null,
   "metadata": {},
   "outputs": [],
   "source": [
    "from pyquery import PyQuery as pq\n",
    "doc = pq(filename=\"demo.html\")\n",
    "print(doc('head'))"
   ]
  },
  {
   "cell_type": "markdown",
   "metadata": {},
   "source": [
    "### 基本CSS选择器"
   ]
  },
  {
   "cell_type": "code",
   "execution_count": 20,
   "metadata": {
    "collapsed": true
   },
   "outputs": [
    {
     "name": "stdout",
     "output_type": "stream",
     "text": [
      "<li class=\"item-0\">first item</li>\n",
      "\t\t<li class=\"item-0 active\">\n",
      "\t\t\t<a href=\"link3.html\">\n",
      "\t\t\t\t<span class=\"bold\">third item</span>\n",
      "\t\t\t</a>\n",
      "\t\t</li>\n",
      "\t\t<li class=\"item-0\"><a href=\"link5.html\">fifth item</a></li>\n",
      "\t\n",
      "--------------查找元素--------------\n",
      "<li class=\"item-1\"><a href=\"link2.html\">second item</a></li>\n",
      "\t\t<li class=\"item-1 active\"><a href=\"link4.html\">four item</a></li>\n",
      "\t\t\n",
      "<li class=\"item-0\">first item</li>\n",
      "\t\t<li class=\"item-1\"><a href=\"link2.html\">second item</a></li>\n",
      "\t\t<li class=\"item-0 active\">\n",
      "\t\t\t<a href=\"link3.html\">\n",
      "\t\t\t\t<span class=\"bold\">third item</span>\n",
      "\t\t\t</a>\n",
      "\t\t</li>\n",
      "\t\t<li class=\"item-1 active\"><a href=\"link4.html\">four item</a></li>\n",
      "\t\t<li class=\"item-0\"><a href=\"link5.html\">fifth item</a></li>\n",
      "\t\n",
      "<li class=\"item-0 active\">\n",
      "\t\t\t<a href=\"link3.html\">\n",
      "\t\t\t\t<span class=\"bold\">third item</span>\n",
      "\t\t\t</a>\n",
      "\t\t</li>\n",
      "\t\t<li class=\"item-1 active\"><a href=\"link4.html\">four item</a></li>\n",
      "\t\t\n",
      "-----------查找父元素-----------\n",
      "<div id=\"container\">\n",
      "\t<ul class=\"list\">\n",
      "\t\t<li class=\"item-0\">first item</li>\n",
      "\t\t<li class=\"item-1\"><a href=\"link2.html\">second item</a></li>\n",
      "\t\t<li class=\"item-0 active\">\n",
      "\t\t\t<a href=\"link3.html\">\n",
      "\t\t\t\t<span class=\"bold\">third item</span>\n",
      "\t\t\t</a>\n",
      "\t\t</li>\n",
      "\t\t<li class=\"item-1 active\"><a href=\"link4.html\">four item</a></li>\n",
      "\t\t<li class=\"item-0\"><a href=\"link5.html\">fifth item</a></li>\n",
      "\t</ul>\n",
      "</div>\n",
      "-----------查找祖先元素------------\n",
      "<div id=\"container\">\n",
      "\t<ul class=\"list\">\n",
      "\t\t<li class=\"item-0\">first item</li>\n",
      "\t\t<li class=\"item-1\"><a href=\"link2.html\">second item</a></li>\n",
      "\t\t<li class=\"item-0 active\">\n",
      "\t\t\t<a href=\"link3.html\">\n",
      "\t\t\t\t<span class=\"bold\">third item</span>\n",
      "\t\t\t</a>\n",
      "\t\t</li>\n",
      "\t\t<li class=\"item-1 active\"><a href=\"link4.html\">four item</a></li>\n",
      "\t\t<li class=\"item-0\"><a href=\"link5.html\">fifth item</a></li>\n",
      "\t</ul>\n",
      "</div><ul class=\"list\">\n",
      "\t\t<li class=\"item-0\">first item</li>\n",
      "\t\t<li class=\"item-1\"><a href=\"link2.html\">second item</a></li>\n",
      "\t\t<li class=\"item-0 active\">\n",
      "\t\t\t<a href=\"link3.html\">\n",
      "\t\t\t\t<span class=\"bold\">third item</span>\n",
      "\t\t\t</a>\n",
      "\t\t</li>\n",
      "\t\t<li class=\"item-1 active\"><a href=\"link4.html\">four item</a></li>\n",
      "\t\t<li class=\"item-0\"><a href=\"link5.html\">fifth item</a></li>\n",
      "\t</ul>\n",
      "\n",
      "------------兄弟元素-----------\n",
      "<li class=\"item-1\"><a href=\"link2.html\">second item</a></li>\n",
      "\t\t<li class=\"item-0\">first item</li>\n",
      "\t\t<li class=\"item-1 active\"><a href=\"link4.html\">four item</a></li>\n",
      "\t\t<li class=\"item-0\"><a href=\"link5.html\">fifth item</a></li>\n",
      "\t\n"
     ]
    }
   ],
   "source": [
    "html_doc = \"\"\"\n",
    "<div id=\"container\">\n",
    "\t<ul class=\"list\">\n",
    "\t\t<li class=\"item-0\">first item</li>\n",
    "\t\t<li class=\"item-1\"><a href=\"link2.html\">second item</a></li>\n",
    "\t\t<li class=\"item-0 active\">\n",
    "\t\t\t<a href=\"link3.html\">\n",
    "\t\t\t\t<span class=\"bold\">third item</span>\n",
    "\t\t\t</a>\n",
    "\t\t</li>\n",
    "\t\t<li class=\"item-1 active\"><a href=\"link4.html\">four item</a></li>\n",
    "\t\t<li class=\"item-0\"><a href=\"link5.html\">fifth item</a></li>\n",
    "\t</ul>\n",
    "</div>\n",
    "\"\"\"\n",
    "from pyquery import PyQuery as pq\n",
    "doc = pq(html_doc)\n",
    "print(doc('#container ul li.item-0'))\n",
    "\n",
    "\n",
    "# 查找元素\n",
    "print(\"--------------查找元素--------------\")\n",
    "print(doc.find('.item-1'))\n",
    "print(doc('ul').children())\n",
    "print(doc('ul').children('.active'))\n",
    "\n",
    "\n",
    "# 查找父元素\n",
    "print('-----------查找父元素-----------')\n",
    "print(doc('.list').parent())\n",
    "print('-----------查找祖先元素------------')\n",
    "print(doc('.list li').parents())\n",
    "# 此时会返回两个，一个是直接父元素，然后是接着向上找的祖先元素\n",
    "\n",
    "print('------------兄弟元素-----------')\n",
    "# 注意这里的含有两个类的时候是怎么书写的。\n",
    "print(doc('ul li.item-0.active').siblings())\n",
    "\n"
   ]
  },
  {
   "cell_type": "markdown",
   "metadata": {},
   "source": [
    "#### 遍历"
   ]
  },
  {
   "cell_type": "code",
   "execution_count": 26,
   "metadata": {},
   "outputs": [
    {
     "name": "stdout",
     "output_type": "stream",
     "text": [
      "<class 'pyquery.pyquery.PyQuery'>\n",
      "<li class=\"item-0\">first item</li>\n",
      "\t\t\n",
      "<li class=\"item-1\"><a href=\"link2.html\">second item</a></li>\n",
      "\t\t\n",
      "<li class=\"item-0 active\">\n",
      "\t\t\t<a href=\"link3.html\">\n",
      "\t\t\t\t<span class=\"bold\">third item</span>\n",
      "\t\t\t</a>\n",
      "\t\t</li>\n",
      "\t\t\n",
      "<li class=\"item-1 active\"><a href=\"link4.html\">four item</a></li>\n",
      "\t\t\n",
      "<li class=\"item-0\"><a href=\"link5.html\">fifth item</a></li>\n",
      "\t\n"
     ]
    }
   ],
   "source": [
    "html_doc = \"\"\"\n",
    "<div id=\"container\">\n",
    "\t<ul class=\"list\">\n",
    "\t\t<li class=\"item-0\">first item</li>\n",
    "\t\t<li class=\"item-1\"><a href=\"link2.html\">second item</a></li>\n",
    "\t\t<li class=\"item-0 active\">\n",
    "\t\t\t<a href=\"link3.html\">\n",
    "\t\t\t\t<span class=\"bold\">third item</span>\n",
    "\t\t\t</a>\n",
    "\t\t</li>\n",
    "\t\t<li class=\"item-1 active\"><a href=\"link4.html\">four item</a></li>\n",
    "\t\t<li class=\"item-0\"><a href=\"link5.html\">fifth item</a></li>\n",
    "\t</ul>\n",
    "</div>\n",
    "\"\"\"\n",
    "from pyquery import PyQuery as pq\n",
    "doc = pq(html_doc)\n",
    "lis = doc('li')\n",
    "print(type(lis))\n",
    "for li in lis.items():\n",
    "    print(li)\n",
    "    "
   ]
  },
  {
   "cell_type": "markdown",
   "metadata": {},
   "source": [
    "#### 获取信息"
   ]
  },
  {
   "cell_type": "code",
   "execution_count": 34,
   "metadata": {
    "collapsed": true
   },
   "outputs": [
    {
     "name": "stdout",
     "output_type": "stream",
     "text": [
      "link3.html\n",
      "link3.html\n",
      "first item third item fifth item\n",
      "<class 'str'>\n",
      "-----------html-----------\n",
      "\n",
      "\t\t\t<a href=\"link3.html\">\n",
      "\t\t\t\t<span class=\"bold\">third item</span>\n",
      "\t\t\t</a>\n",
      "\t\t\n"
     ]
    }
   ],
   "source": [
    "html_doc = \"\"\"\n",
    "<div id=\"container\">\n",
    "\t<ul class=\"list\">\n",
    "\t\t<li class=\"item-0\">first item</li>\n",
    "\t\t<li class=\"item-1\"><a href=\"link2.html\">second item</a></li>\n",
    "\t\t<li class=\"item-0 active\">\n",
    "\t\t\t<a href=\"link3.html\">\n",
    "\t\t\t\t<span class=\"bold\">third item</span>\n",
    "\t\t\t</a>\n",
    "\t\t</li>\n",
    "\t\t<li class=\"item-1 active\"><a href=\"link4.html\">four item</a></li>\n",
    "\t\t<li class=\"item-0\"><a href=\"link5.html\">fifth item</a></li>\n",
    "\t</ul>\n",
    "</div>\n",
    "\"\"\"\n",
    "from pyquery import PyQuery as pq\n",
    "doc = pq(html_doc)\n",
    "\n",
    "# 获取属性值\n",
    "print(doc('li.item-0 a').attr('href'))\n",
    "print(doc('li.item-0 a').attr.href)\n",
    "\n",
    "# 获取文本   此时获取的是多个文本组成的字符串\n",
    "print(doc('li.item-0').text())\n",
    "print(type(doc('li.item-0').text()))\n",
    "\n",
    "# 获取html\n",
    "print('-----------html-----------')\n",
    "print(doc('li.item-0.active').html())\n"
   ]
  },
  {
   "cell_type": "markdown",
   "metadata": {},
   "source": [
    "#### DOM操作"
   ]
  },
  {
   "cell_type": "code",
   "execution_count": 47,
   "metadata": {
    "collapsed": true
   },
   "outputs": [
    {
     "name": "stdout",
     "output_type": "stream",
     "text": [
      "<li class=\"item-0 active\">\n",
      "\t\t\t<a href=\"link3.html\">\n",
      "\t\t\t\t<span class=\"bold\">third item</span>\n",
      "\t\t\t</a>\n",
      "\t\t</li>\n",
      "\t\t\n",
      "<li class=\"item-0\">\n",
      "\t\t\t<a href=\"link3.html\">\n",
      "\t\t\t\t<span class=\"bold\">third item</span>\n",
      "\t\t\t</a>\n",
      "\t\t</li>\n",
      "\t\t\n",
      "<li class=\"item-0 active\">\n",
      "\t\t\t<a href=\"link3.html\">\n",
      "\t\t\t\t<span class=\"bold\">third item</span>\n",
      "\t\t\t</a>\n",
      "\t\t</li>\n",
      "\t\t\n",
      "--------------css   attr---------------\n",
      "<li class=\"item-0 active\" name=\"link\">\n",
      "\t\t\t<a href=\"link3.html\">\n",
      "\t\t\t\t<span class=\"bold\">third item</span>\n",
      "\t\t\t</a>\n",
      "\t\t</li>\n",
      "\t\t\n",
      "<li class=\"item-0 active\" name=\"link\" style=\"font-size: 14px\">\n",
      "\t\t\t<a href=\"link3.html\">\n",
      "\t\t\t\t<span class=\"bold\">third item</span>\n",
      "\t\t\t</a>\n",
      "\t\t</li>\n",
      "\t\t\n",
      "-------------remove------------\n",
      "hello world!!!\n",
      "-----------伪类选择器--------\n",
      "<li class=\"item-0\">first item</li>\n",
      "\t\t\n",
      "<li class=\"item-0\"><a href=\"link5.html\">fifth item</a></li>\n",
      "\t\n",
      "<li class=\"item-1\"><a href=\"link2.html\">second item</a></li>\n",
      "\t\t\n",
      "<li class=\"item-1 active\"><a href=\"link4.html\">four item</a></li>\n",
      "\t\t<li class=\"item-0\"><a href=\"link5.html\">fifth item</a></li>\n",
      "\t\n",
      "<li class=\"item-1\"><a href=\"link2.html\">second item</a></li>\n",
      "\t\t<li class=\"item-1 active\"><a href=\"link4.html\">four item</a></li>\n",
      "\t\t\n",
      "<li class=\"item-1\"><a href=\"link2.html\">second item</a></li>\n",
      "\t\t\n"
     ]
    }
   ],
   "source": [
    "html_doc = \"\"\"\n",
    "<div id=\"container\">\n",
    "\t<ul class=\"list\">\n",
    "\t\t<li class=\"item-0\">first item</li>\n",
    "\t\t<li class=\"item-1\"><a href=\"link2.html\">second item</a></li>\n",
    "\t\t<li class=\"item-0 active\">\n",
    "\t\t\t<a href=\"link3.html\">\n",
    "\t\t\t\t<span class=\"bold\">third item</span>\n",
    "\t\t\t</a>\n",
    "\t\t</li>\n",
    "\t\t<li class=\"item-1 active\"><a href=\"link4.html\">four item</a></li>\n",
    "\t\t<li class=\"item-0\"><a href=\"link5.html\">fifth item</a></li>\n",
    "\t</ul>\n",
    "</div>\n",
    "\"\"\"\n",
    "from pyquery import PyQuery as pq\n",
    "doc = pq(html_doc)\n",
    "li = doc('li.item-0.active')\n",
    "print(li)\n",
    "li.removeClass('active')\n",
    "print(li)\n",
    "li.addClass('active')\n",
    "print(li)\n",
    "\n",
    "# css  attr\n",
    "print('--------------css   attr---------------')\n",
    "# li = doc('li.item-0.active')\n",
    "li.attr(\"name\",\"link\")\n",
    "print(li)\n",
    "li.css('font-size','14px')\n",
    "print(li)\n",
    "\n",
    "print('-------------remove------------')\n",
    "html = \"\"\"\n",
    "<div class=\"wrap\">\n",
    "    hello world!!!\n",
    "    <p>This is a paragraph</p>\n",
    "</div>\n",
    "\"\"\"\n",
    "doc = pq(html)\n",
    "wrap = doc('.wrap')\n",
    "wrap.find('p').remove()\n",
    "print(wrap.text())\n",
    "\n",
    "print('-----------伪类选择器--------')\n",
    "doc = pq(html_doc)\n",
    "print(doc('li:first-child'))\n",
    "print(doc('li:last-child'))\n",
    "print(doc('li:nth-child(2)'))\n",
    "print(doc('li:gt(2)'))   #获取序号比2大的\n",
    "print(doc('li:nth-child(2n)'))\n",
    "# 获取文本中包含 second 的元素\n",
    "print(doc('li:contains(second)'))"
   ]
  }
 ],
 "metadata": {
  "kernelspec": {
   "display_name": "Python 3",
   "language": "python",
   "name": "python3"
  },
  "language_info": {
   "codemirror_mode": {
    "name": "ipython",
    "version": 3
   },
   "file_extension": ".py",
   "mimetype": "text/x-python",
   "name": "python",
   "nbconvert_exporter": "python",
   "pygments_lexer": "ipython3",
   "version": "3.6.4"
  }
 },
 "nbformat": 4,
 "nbformat_minor": 2
}
