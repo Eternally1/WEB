{
 "cells": [
  {
   "cell_type": "markdown",
   "metadata": {},
   "source": [
    "#### 算术运算符"
   ]
  },
  {
   "cell_type": "code",
   "execution_count": 1,
   "metadata": {},
   "outputs": [
    {
     "name": "stdout",
     "output_type": "stream",
     "text": [
      "1024\n",
      "1\n",
      "2.0\n",
      "2\n"
     ]
    }
   ],
   "source": [
    "print(2**10)\n",
    "print(3//2)  #取整除\n",
    "print(6/3)  #总是得到浮点数\n",
    "print(int(2.6))  #不是四舍五入"
   ]
  },
  {
   "cell_type": "markdown",
   "metadata": {},
   "source": [
    "#### 位运算符"
   ]
  },
  {
   "cell_type": "code",
   "execution_count": 3,
   "metadata": {},
   "outputs": [
    {
     "name": "stdout",
     "output_type": "stream",
     "text": [
      "12\n",
      "61\n",
      "49\n",
      "-61\n",
      "240\n",
      "3\n"
     ]
    }
   ],
   "source": [
    "a = 60 #0011 1100\n",
    "b = 13 #0000 1101\n",
    "\n",
    "print(a&b)  #按位与\n",
    "print(a | b)\n",
    "print(a ^ b)  #按位异或\n",
    "print(~a)   #取反\n",
    "print(a<<2)\n",
    "print(b>>2)"
   ]
  },
  {
   "cell_type": "markdown",
   "metadata": {},
   "source": [
    "#### 身份运算符"
   ]
  },
  {
   "cell_type": "code",
   "execution_count": 17,
   "metadata": {},
   "outputs": [
    {
     "name": "stdout",
     "output_type": "stream",
     "text": [
      "1675482464 1675482464 1675482608\n"
     ]
    }
   ],
   "source": [
    "a = 20\n",
    "b = 20\n",
    "c = 29\n",
    "print(id(a),id(b),id(c))"
   ]
  }
 ],
 "metadata": {
  "kernelspec": {
   "display_name": "Python 3",
   "language": "python",
   "name": "python3"
  },
  "language_info": {
   "codemirror_mode": {
    "name": "ipython",
    "version": 3
   },
   "file_extension": ".py",
   "mimetype": "text/x-python",
   "name": "python",
   "nbconvert_exporter": "python",
   "pygments_lexer": "ipython3",
   "version": "3.6.4"
  }
 },
 "nbformat": 4,
 "nbformat_minor": 2
}
