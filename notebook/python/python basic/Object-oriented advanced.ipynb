{
 "cells": [
  {
   "cell_type": "markdown",
   "metadata": {},
   "source": [
    "## 面向对象高级编程"
   ]
  },
  {
   "cell_type": "markdown",
   "metadata": {},
   "source": [
    "### __slots__"
   ]
  },
  {
   "cell_type": "code",
   "execution_count": 4,
   "metadata": {},
   "outputs": [
    {
     "name": "stdout",
     "output_type": "stream",
     "text": [
      "22 Qiu\n",
      "100\n",
      "80\n"
     ]
    }
   ],
   "source": [
    "class Student(object):\n",
    "    pass\n",
    "\n",
    "s = Student()\n",
    "# 绑定属性\n",
    "s.name = \"Qiu\"\n",
    "\n",
    "# 绑定方法\n",
    "def set_age(self,age):\n",
    "    self.age = age\n",
    "\n",
    "from types import MethodType\n",
    "s.set_age = MethodType(set_age,s)\n",
    "s.set_age(22)\n",
    "print(s.age,s.name)\n",
    "# 以上操作都是在实例s上的操作，对其他实例不起作用\n",
    "\n",
    "# 给class绑定方法\n",
    "def set_score(self,score):\n",
    "    self.score = score;\n",
    "\n",
    "Student.set_score = set_score\n",
    "s.set_score(100)\n",
    "print(s.score)\n",
    "\n",
    "s2 = Student()\n",
    "s2.set_score(80)\n",
    "print(s2.score)"
   ]
  },
  {
   "cell_type": "markdown",
   "metadata": {},
   "source": [
    "通常情况下，上面的set_score方法可以直接定义在class中，但动态绑定允许我们在程序运行的过程中动态给class加上功能，这在静态语言中很难实现。"
   ]
  },
  {
   "cell_type": "markdown",
   "metadata": {},
   "source": [
    "#### 使用 slots"
   ]
  },
  {
   "cell_type": "markdown",
   "metadata": {},
   "source": [
    "用于限制class实例能添加的属性,只对当前类实例起作用，对继承的子类的实例是不起作用的。"
   ]
  },
  {
   "cell_type": "code",
   "execution_count": 7,
   "metadata": {},
   "outputs": [],
   "source": [
    "class Student(object):\n",
    "    __slots__ = ('name','age')\n",
    "\n",
    "s = Student()\n",
    "s.name = \"Qiu\"\n",
    "s.age = 21\n",
    "# s.score = 90"
   ]
  },
  {
   "cell_type": "markdown",
   "metadata": {},
   "source": [
    "### 使用@property"
   ]
  },
  {
   "cell_type": "markdown",
   "metadata": {},
   "source": [
    "在绑定属性时，如果我们直接把属性暴露出去，虽然写起来很简单，但是，没办法检查参数，导致可以把成绩随便改.这显然不合逻辑。  \n",
    "为了限制score的范围，可以通过一个set_score()方法来设置成绩，再通过一个get_score()来获取成绩，这样，在set_score()方法里，就可以检查参数。"
   ]
  },
  {
   "cell_type": "code",
   "execution_count": 15,
   "metadata": {},
   "outputs": [
    {
     "name": "stdout",
     "output_type": "stream",
     "text": [
      "80\n"
     ]
    }
   ],
   "source": [
    "class Student(object):\n",
    "    def get_score(self):\n",
    "        return self._score\n",
    "    \n",
    "    def set_score(self,score):\n",
    "        if not isinstance(score,int):\n",
    "            raise ValueError(\"score must be an integer\")\n",
    "        if score <0 or score > 100:\n",
    "            raise ValueError(\"score must between 0~100\")\n",
    "        self._score = score\n",
    "s1 = Student()\n",
    "s1.set_score(80)\n",
    "print(s1.get_score())"
   ]
  },
  {
   "cell_type": "markdown",
   "metadata": {},
   "source": [
    "@property是python内置的装饰器，用于将一个方法编成属性调用。  \n",
    "注意只读属性定义。"
   ]
  },
  {
   "cell_type": "code",
   "execution_count": 1,
   "metadata": {},
   "outputs": [
    {
     "name": "stdout",
     "output_type": "stream",
     "text": [
      "60\n",
      "22\n"
     ]
    }
   ],
   "source": [
    "class Student(object):\n",
    "    \n",
    "    @property\n",
    "    def score(self):\n",
    "        return self._score\n",
    "    \n",
    "    @score.setter\n",
    "    def score(self,score):\n",
    "        if not isinstance(score,int):\n",
    "            raise ValueError(\"score must be an integer\")\n",
    "        if score <0 or score > 100:\n",
    "            raise ValueError(\"score must between 0~100\")\n",
    "        self._score = score\n",
    "     \n",
    "    @property\n",
    "    def birth(self):\n",
    "        return self._birth\n",
    "    \n",
    "    @birth.setter\n",
    "    def birth(self,birth):\n",
    "        self._birth = birth\n",
    "    \n",
    "    @property\n",
    "    def age(self):\n",
    "        return 2018-self._birth\n",
    "    \n",
    "s1 = Student()\n",
    "s1.score = 60\n",
    "print(s1.score)\n",
    "\n",
    "# age是只读属性\n",
    "s1.birth = 1996\n",
    "print(s1.age)"
   ]
  },
  {
   "cell_type": "markdown",
   "metadata": {},
   "source": [
    "#### 多重继承"
   ]
  },
  {
   "cell_type": "code",
   "execution_count": 3,
   "metadata": {},
   "outputs": [],
   "source": [
    "class Mammal(object):\n",
    "    pass\n",
    "class Runnable(object):\n",
    "    pass\n",
    "class Dog(Mammal,Runnable):\n",
    "    pass"
   ]
  },
  {
   "cell_type": "markdown",
   "metadata": {},
   "source": [
    "#### 定制类"
   ]
  },
  {
   "cell_type": "raw",
   "metadata": {},
   "source": [
    "__str__   __repr__\n",
    "但是细心的朋友会发现直接敲变量不用print，打印出来的实例还是不好看.\n",
    "这是因为直接显示变量调用的不是__str__()，而是__repr__()。\n",
    "\n",
    "两者的区别是__str__()返回用户看到的字符串，而__repr__()返回程序开发者看到的字符串，也就是说，__repr__()是为调试服务的。\n",
    "解决办法是再定义一个__repr__()。但是通常__str__()和__repr__()代码都是一样的，所以，有个偷懒的写法："
   ]
  },
  {
   "cell_type": "code",
   "execution_count": 6,
   "metadata": {},
   "outputs": [
    {
     "name": "stdout",
     "output_type": "stream",
     "text": [
      "Student object (name:Tom)\n"
     ]
    }
   ],
   "source": [
    "class Student(object):\n",
    "    def __init__(self,name):\n",
    "        self.name = name\n",
    "    \n",
    "    def __str__(self):\n",
    "        return 'Student object (name:%s)'%self.name\n",
    "    \n",
    "    __repr__ = __str__\n",
    "        \n",
    "print(Student(\"Tom\"))"
   ]
  },
  {
   "cell_type": "raw",
   "metadata": {},
   "source": [
    "__iter__\n",
    "\n",
    "如果一个类想被用于for ... in循环，类似list或tuple那样，就必须实现一个__iter__()方法，该方法返回一个迭代对象，然后，Python的for循环就会不断调用该迭代对象的__next__()方法拿到循环的下一个值，直到遇到StopIteration错误时退出循环。【S】使用for...in的时候，会在定义的类中寻找__iter__方法，然后根据next方法来拿到下一个循环的值。"
   ]
  },
  {
   "cell_type": "code",
   "execution_count": 10,
   "metadata": {},
   "outputs": [
    {
     "name": "stdout",
     "output_type": "stream",
     "text": [
      "1 1 2 3 5 8 13 21 34 55 89 "
     ]
    }
   ],
   "source": [
    "class Fib(object):\n",
    "    def __init__(self):\n",
    "        self.a,self.b = 0,1\n",
    "        \n",
    "    def __iter__(self):\n",
    "        return self;   #实例本身是迭代对象，故返回自己\n",
    "    \n",
    "    def __next__(self):\n",
    "        self.a,self.b = self.b,self.a+self.b\n",
    "        if self.a > 100:\n",
    "            raise StopIteration()\n",
    "        return self.a\n",
    "\n",
    "for i in Fib():\n",
    "    print(i,end=\" \")"
   ]
  },
  {
   "cell_type": "raw",
   "metadata": {},
   "source": [
    "__getitem__\n",
    "\n",
    "凡是在类中定义了这个__getitem__ 方法，那么它的实例对象（假定为p），可以像这样p[key] 取值，当实例对象做p[key] 运算时，会调用类中的方法__getitem__。\n",
    "\n",
    "还有__setitem__  __delitem__等方法的使用，在用到的时候在补充。"
   ]
  },
  {
   "cell_type": "code",
   "execution_count": 21,
   "metadata": {},
   "outputs": [
    {
     "name": "stdout",
     "output_type": "stream",
     "text": [
      "1 1 2 3 5 8 13 21 34 55 89 \n",
      "\n",
      "1\n",
      "[4, 5, 6, 7]\n",
      "[1, 1, 2]\n",
      "[2, 3, 5, 8, 13, 21, 34]\n"
     ]
    }
   ],
   "source": [
    "class Fib(object):\n",
    "    def __init__(self):\n",
    "        self.a,self.b = 0,1\n",
    "        \n",
    "    def __iter__(self):\n",
    "        return self;   #实例本身是迭代对象，故返回自己\n",
    "    \n",
    "    def __next__(self):\n",
    "        self.a,self.b = self.b,self.a+self.b\n",
    "        if self.a > 100:\n",
    "            raise StopIteration()\n",
    "        return self.a\n",
    "    \n",
    "    def __getitem__(self,n):\n",
    "        if isinstance(n,int):\n",
    "            a,b = 1,1\n",
    "            for x in range(n):\n",
    "                a,b = b,a+b\n",
    "            return a\n",
    "        \n",
    "        if isinstance(n,slice):\n",
    "            start = n.start\n",
    "            stop = n.stop\n",
    "            if start is None:\n",
    "                start = 0\n",
    "            a,b = 1,1\n",
    "            L = []\n",
    "            for i in range(stop):\n",
    "                if i>=start:\n",
    "                    L.append(a)\n",
    "                a,b = b,a+b\n",
    "            return L\n",
    "        \n",
    "\n",
    "for i in Fib():\n",
    "    print(i,end=\" \")\n",
    "print(\"\\n\")\n",
    "print(Fib()[0])\n",
    "\n",
    "# list切片\n",
    "print(list(range(10))[4:8])\n",
    "\n",
    "# 实现切片，判断传入的是切片对象还是int\n",
    "f = Fib()\n",
    "print(f[:3])\n",
    "print(f[2:9])\n",
    "\n",
    "# 但是并没有结束，还有负数，step没有考虑。"
   ]
  },
  {
   "cell_type": "raw",
   "metadata": {},
   "source": [
    "__getattr__\n",
    "\n",
    "正常情况下，当我们调用类的方法或者属性时，如果不存在，就会报错。\n",
    "\n",
    "当调用不存在的属性时，比如score，Python解释器会试图调用__getattr__(self, 'score')来尝试获得属性，这样，我们就有机会返回score值。\n",
    "\n",
    "注意，只有在没有找到属性的情况下，才调用__getattr__。\n",
    "\n",
    "具体的使用  API，不是很清楚用处。"
   ]
  },
  {
   "cell_type": "code",
   "execution_count": 27,
   "metadata": {},
   "outputs": [
    {
     "name": "stdout",
     "output_type": "stream",
     "text": [
      "99\n"
     ]
    }
   ],
   "source": [
    "class Student(object):\n",
    "    def __init__(self,name):\n",
    "        self.name = name\n",
    "\n",
    "    def __getattr__(self,attr):\n",
    "        if attr == 'score':\n",
    "            return 99\n",
    "        \n",
    "        raise AttributeError(\"Student object has no attribute %s\"% attr)\n",
    "        \n",
    "s = Student('Qiu')\n",
    "print(s.score)\n",
    "# print(s.age)"
   ]
  },
  {
   "cell_type": "raw",
   "metadata": {},
   "source": [
    "__call__\n",
    "\n",
    "一个对象实例可以有自己的属性和方法，当我们调用实例方法时，我们用instance.method()【实例.方法名字】来调用。能不能直接在实例本身上调用呢？在Python中，答案是肯定的。\n",
    "\n",
    "__call__()还可以定义参数。对实例进行直接调用就好比对一个函数进行调用一样，所以你完全可以把对象看成函数，把函数看成对象，因为这两者之间本来就没啥根本的区别。\n",
    "callable()可用于判断一个对象是否为可调用对象"
   ]
  },
  {
   "cell_type": "code",
   "execution_count": 34,
   "metadata": {},
   "outputs": [
    {
     "name": "stdout",
     "output_type": "stream",
     "text": [
      "My name is Qiu \n",
      "True\n",
      "False\n"
     ]
    }
   ],
   "source": [
    "class Student(object):\n",
    "    def __init__(self,name):\n",
    "        self.name = name\n",
    "        \n",
    "    def __call__(self):\n",
    "        print(\"My name is %s \"% self.name)\n",
    "\n",
    "s = Student(\"Qiu\")\n",
    "s()\n",
    "\n",
    "print(callable(s))\n",
    "# 去掉__call__方法，那么callable返回值就是False了\n",
    "\n",
    "print(callable('str'))"
   ]
  },
  {
   "cell_type": "markdown",
   "metadata": {},
   "source": [
    "这里介绍的只是几个比较常用的定制方法，更多定制方法参考[python官方文档](https://docs.python.org/3/reference/datamodel.html#special-method-names)"
   ]
  },
  {
   "cell_type": "markdown",
   "metadata": {},
   "source": [
    "#### 使用枚举类"
   ]
  },
  {
   "cell_type": "code",
   "execution_count": 38,
   "metadata": {},
   "outputs": [
    {
     "name": "stdout",
     "output_type": "stream",
     "text": [
      "Jan => Month.Jan , 1\n",
      "Feb => Month.Feb , 2\n",
      "Mar => Month.Mar , 3\n",
      "Apr => Month.Apr , 4\n",
      "May => Month.May , 5\n",
      "Jun => Month.Jun , 6\n",
      "Jul => Month.Jul , 7\n",
      "Aug => Month.Aug , 8\n",
      "Sep => Month.Sep , 9\n",
      "Oct => Month.Oct , 10\n",
      "Nov => Month.Nov , 11\n",
      "Dec => Month.Dec , 12\n"
     ]
    }
   ],
   "source": [
    "from enum import Enum\n",
    "Month = Enum('Month',('Jan','Feb','Mar','Apr','May','Jun','Jul','Aug','Sep','Oct','Nov','Dec'))\n",
    "\n",
    "for name,member in Month.__members__.items():\n",
    "    print(name,'=>',member,',',member.value)\n",
    "    \n"
   ]
  },
  {
   "cell_type": "code",
   "execution_count": 45,
   "metadata": {},
   "outputs": [
    {
     "name": "stdout",
     "output_type": "stream",
     "text": [
      "1\n",
      "Weekday.sun\n",
      "sun => Weekday.sun\n",
      "Mon => Weekday.Mon\n",
      "Tue => Weekday.Tue\n",
      "Wed => Weekday.Wed\n",
      "Thu => Weekday.Thu\n",
      "Fri => Weekday.Fri\n",
      "Sat => Weekday.Sat\n"
     ]
    }
   ],
   "source": [
    "# 可以从Enum派生出自定义类\n",
    "from enum import Enum,unique\n",
    "@unique\n",
    "class Weekday(Enum):\n",
    "    sun = 0\n",
    "    Mon = 1\n",
    "    Tue = 2\n",
    "    Wed = 3\n",
    "    Thu = 4\n",
    "    Fri = 5\n",
    "    Sat = 6\n",
    "# @unique装饰器帮助我们检查保证没有重复值\n",
    "\n",
    "day1 = Weekday.Mon\n",
    "print(day1.value)\n",
    "print(Weekday(0))\n",
    "\n",
    "for name,member in Weekday.__members__.items():\n",
    "    print(name,'=>',member)"
   ]
  },
  {
   "cell_type": "markdown",
   "metadata": {},
   "source": [
    "#### 使用元类"
   ]
  },
  {
   "cell_type": "markdown",
   "metadata": {},
   "source": [
    "#### type()"
   ]
  },
  {
   "cell_type": "code",
   "execution_count": 48,
   "metadata": {},
   "outputs": [
    {
     "name": "stdout",
     "output_type": "stream",
     "text": [
      "<class 'type'>\n",
      "<class '__main__.Hello'>\n"
     ]
    }
   ],
   "source": [
    "class Hello(object):\n",
    "    def hello(self, name='world'):\n",
    "        print('Hello, %s.' % name)\n",
    "hello = Hello()\n",
    "print(type(Hello))  #Hello是一个类，他的类型就是type\n",
    "print(type(hello))\n",
    "\n"
   ]
  },
  {
   "cell_type": "markdown",
   "metadata": {},
   "source": [
    "使用type创建新的类型，比如下面的使用type创建Hello类\n",
    "要创建一个class对象，type()函数依次传入3个参数：\n",
    "1. class的名称；\n",
    "2. 继承的父类集合，注意Python支持多重继承，如果只有一个父类，别忘了tuple的单元素写法；\n",
    "3. class的方法名称与函数绑定，这里我们把函数fn绑定到方法名hello上。"
   ]
  },
  {
   "cell_type": "code",
   "execution_count": 53,
   "metadata": {},
   "outputs": [],
   "source": [
    "def fn(self, name='world'):\n",
    "        print('Hello, %s.' % name)\n",
    "H = type('Hello',(object,),dict(hello=fn))\n",
    "# 都行\n",
    "h1 = Hello()\n",
    "h2 = H()\n"
   ]
  },
  {
   "cell_type": "markdown",
   "metadata": {},
   "source": [
    "#### metaclass"
   ]
  },
  {
   "cell_type": "markdown",
   "metadata": {},
   "source": [
    "但是如果我们想创建出类呢？那就必须根据metaclass创建出类，所以：先定义metaclass，然后创建类。\n",
    "\n",
    "很少用到，这里先不用看。"
   ]
  }
 ],
 "metadata": {
  "kernelspec": {
   "display_name": "Python 3",
   "language": "python",
   "name": "python3"
  },
  "language_info": {
   "codemirror_mode": {
    "name": "ipython",
    "version": 3
   },
   "file_extension": ".py",
   "mimetype": "text/x-python",
   "name": "python",
   "nbconvert_exporter": "python",
   "pygments_lexer": "ipython3",
   "version": "3.6.4"
  }
 },
 "nbformat": 4,
 "nbformat_minor": 2
}
