{
 "cells": [
  {
   "cell_type": "markdown",
   "metadata": {},
   "source": [
    "#### 数学函数"
   ]
  },
  {
   "cell_type": "code",
   "execution_count": 1,
   "metadata": {},
   "outputs": [
    {
     "name": "stdout",
     "output_type": "stream",
     "text": [
      "10\n",
      "5\n",
      "4\n",
      "2.718281828459045\n",
      "10.3\n",
      "1.0\n",
      "2.0\n",
      "2.0\n",
      "97\n",
      "1\n",
      "(0.12000000000000455, 100.0)\n",
      "8.0\n",
      "5\n",
      "4\n",
      "4.72\n",
      "2.0\n"
     ]
    }
   ],
   "source": [
    "import math\n",
    "\n",
    "print(abs(-10))\n",
    "# 返回上入整数\n",
    "print(math.ceil(4.1))\n",
    "# 返回下舍整数\n",
    "print(math.floor(4.6))\n",
    "# 返回e的x次幂\n",
    "print(math.exp(1))\n",
    "print(math.fabs(-10.3))\n",
    "\n",
    "# 取对数，默认以e为底\n",
    "print(math.log(math.e))\n",
    "print(math.log(100,10))\n",
    "print(math.log10(100))\n",
    "\n",
    "print(max(1,2,3,4,5,3,ord('a')))\n",
    "print(min(12,32,1))\n",
    "\n",
    "# 返回整数部分和小数部分\n",
    "print(math.modf(100.12))\n",
    "print(math.pow(2,3))\n",
    "# 输出四舍五入之后的值\n",
    "print(round(4.6))\n",
    "print(round(4.5))\n",
    "# 2表示舍入到小数点之后2位\n",
    "print(round(4.723,2))\n",
    "\n",
    "# 返回数字的平方根\n",
    "print(math.sqrt(4))"
   ]
  },
  {
   "cell_type": "markdown",
   "metadata": {},
   "source": [
    "#### 随机数函数"
   ]
  },
  {
   "cell_type": "code",
   "execution_count": 62,
   "metadata": {},
   "outputs": [
    {
     "name": "stdout",
     "output_type": "stream",
     "text": [
      "9\n",
      "Tom\n",
      "17\n",
      "0.8405867825261619\n",
      "6\n",
      "[2, 4, 1, 3]\n",
      "9.674580727964262\n",
      "3.141592653589793\n"
     ]
    }
   ],
   "source": [
    "import random\n",
    "import math\n",
    "\n",
    "# choice从序列中挑选一个数\n",
    "print(random.choice(range(10)))\n",
    "print(random.choice(['Tom','Jack','Mary']))\n",
    "\n",
    "# 选取1-100内随机的一个奇数\n",
    "print(random.randrange(1,100,2))\n",
    "\n",
    "# 产生0-1内的随机数\n",
    "print(random.random())\n",
    "# 1-10内的随机数\n",
    "print(math.ceil(random.random()*10))\n",
    "\n",
    "# 将序列随机排序\n",
    "list = [1,2,3,4]\n",
    "random.shuffle(list)\n",
    "print(list)\n",
    "\n",
    "print(random.uniform(5,10))\n",
    "print(math.pi)\n",
    "\n"
   ]
  },
  {
   "cell_type": "markdown",
   "metadata": {},
   "source": [
    "#### 三角函数"
   ]
  },
  {
   "cell_type": "markdown",
   "metadata": {},
   "source": [
    "[三角函数](http://www.runoob.com/python3/python3-number.html)"
   ]
  }
 ],
 "metadata": {
  "kernelspec": {
   "display_name": "Python 3",
   "language": "python",
   "name": "python3"
  },
  "language_info": {
   "codemirror_mode": {
    "name": "ipython",
    "version": 3
   },
   "file_extension": ".py",
   "mimetype": "text/x-python",
   "name": "python",
   "nbconvert_exporter": "python",
   "pygments_lexer": "ipython3",
   "version": "3.6.4"
  }
 },
 "nbformat": 4,
 "nbformat_minor": 2
}
