{
 "cells": [
  {
   "cell_type": "markdown",
   "metadata": {},
   "source": [
    "# 面向对象高级编程"
   ]
  },
  {
   "cell_type": "markdown",
   "metadata": {},
   "source": [
    "部分小的知识在onenote中记载的有"
   ]
  },
  {
   "cell_type": "markdown",
   "metadata": {},
   "source": [
    "## 类的方法"
   ]
  },
  {
   "cell_type": "code",
   "execution_count": 10,
   "metadata": {},
   "outputs": [
    {
     "name": "stdout",
     "output_type": "stream",
     "text": [
      "Knock!\n",
      "Knock!\n",
      "blue\n",
      "<bound method Door.knock of <class '__main__.Door'>>\n",
      "<bound method Door.knock of <class '__main__.Door'>>\n"
     ]
    }
   ],
   "source": [
    "# 使用装饰器  @classmethod\n",
    "class Door():\n",
    "    colour = 'brown'\n",
    "    def __init__(self,number,status):\n",
    "        self.number = number\n",
    "        self.status = status\n",
    "        \n",
    "    @classmethod\n",
    "    def knock(cls):\n",
    "        print(\"Knock!\")\n",
    "    \n",
    "    @classmethod\n",
    "    def paint(cls,colour):\n",
    "        cls.colour = colour\n",
    "    \n",
    "door1 = Door(1001,'closed')\n",
    "# 实例也可以调用\n",
    "door1.knock()\n",
    "Door.knock()\n",
    "Door.paint(\"red\")\n",
    "door1.paint(\"blue\")\n",
    "print(Door.colour)\n",
    "\n",
    "print(door1.knock)\n",
    "print(Door.knock)"
   ]
  },
  {
   "cell_type": "markdown",
   "metadata": {},
   "source": [
    "knock方法接受一个参数cls，不是一个实例，而是类本身，这意味着可以在方法内操作这个类"
   ]
  },
  {
   "cell_type": "markdown",
   "metadata": {},
   "source": [
    "## 组合"
   ]
  },
  {
   "cell_type": "code",
   "execution_count": 14,
   "metadata": {},
   "outputs": [
    {
     "name": "stdout",
     "output_type": "stream",
     "text": [
      "open\n"
     ]
    }
   ],
   "source": [
    "class Door():\n",
    "    colour = 'brown'\n",
    "    def __init__(self,number,status):\n",
    "        self.number = number\n",
    "        self.status = status\n",
    "        \n",
    "    @classmethod\n",
    "    def knock(cls):\n",
    "        print(\"Knock!\")\n",
    "    \n",
    "    @classmethod\n",
    "    def paint(cls,colour):\n",
    "        cls.colour = colour\n",
    "        \n",
    "    def open(self):\n",
    "        self.status = \"open\"\n",
    "        \n",
    "    def close(self):\n",
    "        self.status = \"close\"\n",
    "# 注意这里srcurityDoor没有继承Door\n",
    "class SecurityDoor:\n",
    "    colour = 'gray'\n",
    "    locked = True\n",
    "    \n",
    "    def __init__(self,number,status):\n",
    "        #将Door的实例作为SecurityDoor的一个属性。\n",
    "        self.door = Door(number,status)\n",
    "        \n",
    "    def open(self):\n",
    "        if self.locked:\n",
    "            return\n",
    "        self.door.open()\n",
    "        \n",
    "    def close(self):\n",
    "        self.door.close()\n",
    "\n",
    "sd = SecurityDoor(1001,'close')\n",
    "sd.locked = False\n",
    "sd.open()\n",
    "print(sd.door.status)\n",
    "    "
   ]
  },
  {
   "cell_type": "markdown",
   "metadata": {},
   "source": [
    "## 元类"
   ]
  },
  {
   "cell_type": "markdown",
   "metadata": {},
   "source": [
    "看一下继承链"
   ]
  },
  {
   "cell_type": "code",
   "execution_count": 19,
   "metadata": {},
   "outputs": [
    {
     "name": "stdout",
     "output_type": "stream",
     "text": [
      "<class 'int'>\n",
      "<class 'int'>\n",
      "(<class 'object'>,)\n",
      "()\n"
     ]
    }
   ],
   "source": [
    "a = 5\n",
    "print(type(a))\n",
    "print(a.__class__)\n",
    "print(a.__class__.__bases__)\n",
    "print(a.__class__.__bases__[0].__bases__)"
   ]
  },
  {
   "cell_type": "markdown",
   "metadata": {},
   "source": [
    "由上可知，a是一个int类的实例，int类继承与object。  \n",
    "- int  object都被叫做  <class 'int'>  <class 'object'>  \n",
    "- a是int类的实例，int类本身又是一个其他类的实例，int是一个实例化得类，用于构建类\n"
   ]
  },
  {
   "cell_type": "code",
   "execution_count": 24,
   "metadata": {},
   "outputs": [
    {
     "name": "stdout",
     "output_type": "stream",
     "text": [
      "<class 'type'>\n",
      "<class 'type'>\n",
      "<class 'type'>\n",
      "(<class 'object'>,)\n",
      "<class 'type'>\n"
     ]
    }
   ],
   "source": [
    "print(type(int))\n",
    "print(type(float))\n",
    "print(type(object))\n",
    "print(type.__bases__)\n",
    "print(type(type))"
   ]
  },
  {
   "cell_type": "markdown",
   "metadata": {},
   "source": [
    "> 在python中，一切都是对象，一切都是类的实例，甚至类也是。object是所有对象的基类，type是所有类型的基类。\n",
    "- 由上可以看到，object是type的一个实例，而type继承于object。\n",
    "- 类也是对象，类本身是一个超类的实例，而这个超类就是type，type是用于构建类的类\n"
   ]
  },
  {
   "cell_type": "code",
   "execution_count": 27,
   "metadata": {},
   "outputs": [
    {
     "name": "stdout",
     "output_type": "stream",
     "text": [
      "<class '__main__.MySpecialType'>\n",
      "<class '__main__.MyType'>\n",
      "<class 'type'>\n"
     ]
    }
   ],
   "source": [
    "class MyType(type):\n",
    "    pass\n",
    "class MySpecialType(metaclass=MyType):\n",
    "    pass\n",
    "msp = MySpecialType()\n",
    "print(type(msp))  #是MySpecialType的实例\n",
    "\n",
    "print(type(MySpecialType))\n",
    "print(type(MyType))"
   ]
  }
 ],
 "metadata": {
  "kernelspec": {
   "display_name": "Python 3",
   "language": "python",
   "name": "python3"
  },
  "language_info": {
   "codemirror_mode": {
    "name": "ipython",
    "version": 3
   },
   "file_extension": ".py",
   "mimetype": "text/x-python",
   "name": "python",
   "nbconvert_exporter": "python",
   "pygments_lexer": "ipython3",
   "version": "3.6.4"
  }
 },
 "nbformat": 4,
 "nbformat_minor": 2
}
